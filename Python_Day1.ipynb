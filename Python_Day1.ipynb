{
 "cells": [
  {
   "cell_type": "code",
   "execution_count": 1,
   "id": "ae513526-3276-42ee-bea2-75ca92076dc2",
   "metadata": {},
   "outputs": [
    {
     "data": {
      "text/plain": [
       "'hello'"
      ]
     },
     "execution_count": 1,
     "metadata": {},
     "output_type": "execute_result"
    }
   ],
   "source": [
    "\"hello\""
   ]
  },
  {
   "cell_type": "code",
   "execution_count": 2,
   "id": "84709739-c546-42e5-a805-aab9fa90cadc",
   "metadata": {},
   "outputs": [
    {
     "data": {
      "text/plain": [
       "'Hello I am Anjali Sonavane'"
      ]
     },
     "execution_count": 2,
     "metadata": {},
     "output_type": "execute_result"
    }
   ],
   "source": [
    "'Hello I am Anjali Sonavane'\n"
   ]
  },
  {
   "cell_type": "code",
   "execution_count": 3,
   "id": "5f7f028b-9d3f-4709-8aef-48ac573765d9",
   "metadata": {},
   "outputs": [
    {
     "name": "stdout",
     "output_type": "stream",
     "text": [
      "hello\n",
      "Welcome to WIT\n",
      "I am Anjali\n",
      "\n",
      "\n",
      "It give a new line space\n"
     ]
    }
   ],
   "source": [
    "print('hello')\n",
    "print('Welcome to WIT')\n",
    "print('I am Anjali')\n",
    "print('\\n')\n",
    "print('It give a new line space')"
   ]
  },
  {
   "cell_type": "code",
   "execution_count": 4,
   "id": "d0e758f3-27e4-4f47-8b1b-9841c89d86e9",
   "metadata": {},
   "outputs": [
    {
     "data": {
      "text/plain": [
       "15"
      ]
     },
     "execution_count": 4,
     "metadata": {},
     "output_type": "execute_result"
    }
   ],
   "source": [
    "len('Hello I am Aziz')"
   ]
  },
  {
   "cell_type": "code",
   "execution_count": 8,
   "id": "79798b4f-afeb-4796-9777-3f01c3f9f389",
   "metadata": {},
   "outputs": [
    {
     "data": {
      "text/plain": [
       "'Hello i am anjali'"
      ]
     },
     "execution_count": 8,
     "metadata": {},
     "output_type": "execute_result"
    }
   ],
   "source": [
    "str='Hello i am anjali'\n",
    "str"
   ]
  },
  {
   "cell_type": "code",
   "execution_count": 9,
   "id": "f3a4f22c-674d-444e-a200-b18963d8afd4",
   "metadata": {},
   "outputs": [
    {
     "data": {
      "text/plain": [
       "17"
      ]
     },
     "execution_count": 9,
     "metadata": {},
     "output_type": "execute_result"
    }
   ],
   "source": [
    "len(str)"
   ]
  },
  {
   "cell_type": "code",
   "execution_count": 11,
   "id": "2498d85a-d5f2-48a9-aaea-0707894c5ead",
   "metadata": {},
   "outputs": [
    {
     "name": "stdout",
     "output_type": "stream",
     "text": [
      "o\n"
     ]
    }
   ],
   "source": [
    "print(str[4])"
   ]
  },
  {
   "cell_type": "code",
   "execution_count": 15,
   "id": "02424dda-2be1-4d9c-9d28-b80270c8018f",
   "metadata": {},
   "outputs": [
    {
     "data": {
      "text/plain": [
       "'llo i am anjali'"
      ]
     },
     "execution_count": 15,
     "metadata": {},
     "output_type": "execute_result"
    }
   ],
   "source": [
    "str[2:]  #skip 0 ,1 and print from 2"
   ]
  },
  {
   "cell_type": "code",
   "execution_count": 16,
   "id": "39aa12c3-0067-402b-b505-4687ce4ac823",
   "metadata": {},
   "outputs": [
    {
     "data": {
      "text/plain": [
       "'Hel'"
      ]
     },
     "execution_count": 16,
     "metadata": {},
     "output_type": "execute_result"
    }
   ],
   "source": [
    "str[:3]  # split (take only index from 0 to 2)"
   ]
  },
  {
   "cell_type": "code",
   "execution_count": 23,
   "id": "6ede758e-f4f4-413c-ad10-13a3c34731c3",
   "metadata": {},
   "outputs": [
    {
     "name": "stdout",
     "output_type": "stream",
     "text": [
      "Hello i am anjali,I study in Wit\n"
     ]
    }
   ],
   "source": [
    "str2=(str + ',I study in Wit') \n",
    "print(str2)      #concatenate"
   ]
  },
  {
   "cell_type": "code",
   "execution_count": 21,
   "id": "771ac4ee-a72f-4dfb-93f5-6d21de258042",
   "metadata": {},
   "outputs": [
    {
     "data": {
      "text/plain": [
       "'HELLO I AM ANJALI'"
      ]
     },
     "execution_count": 21,
     "metadata": {},
     "output_type": "execute_result"
    }
   ],
   "source": [
    "str.upper()  #case change"
   ]
  },
  {
   "cell_type": "code",
   "execution_count": 24,
   "id": "820e6fdb-b311-4537-a32f-3a1fc943e923",
   "metadata": {},
   "outputs": [
    {
     "data": {
      "text/plain": [
       "'hello i am anjali'"
      ]
     },
     "execution_count": 24,
     "metadata": {},
     "output_type": "execute_result"
    }
   ],
   "source": [
    "str.lower()"
   ]
  },
  {
   "cell_type": "code",
   "execution_count": 25,
   "id": "8b780721-4757-4093-9358-3264120f107d",
   "metadata": {},
   "outputs": [
    {
     "data": {
      "text/plain": [
       "['Hello', 'i', 'am', 'anjali']"
      ]
     },
     "execution_count": 25,
     "metadata": {},
     "output_type": "execute_result"
    }
   ],
   "source": [
    "str.split()"
   ]
  },
  {
   "cell_type": "code",
   "execution_count": 28,
   "id": "354180e3-753c-4f9c-9afe-cef4f07c0dad",
   "metadata": {},
   "outputs": [
    {
     "name": "stdout",
     "output_type": "stream",
     "text": [
      "Enter name here Anjali then also Arushi\n"
     ]
    }
   ],
   "source": [
    "print('Enter name here {} then also {}' .format('Anjali','Arushi'))  #Another way to print"
   ]
  },
  {
   "cell_type": "code",
   "execution_count": 29,
   "id": "442b500c-17b9-4147-9ef8-843ea34421c4",
   "metadata": {},
   "outputs": [
    {
     "name": "stdout",
     "output_type": "stream",
     "text": [
      "The colors are green blue red\n"
     ]
    }
   ],
   "source": [
    "print('The colors are {2} {1} {0}'.format('red','blue','green'))"
   ]
  },
  {
   "cell_type": "code",
   "execution_count": 30,
   "id": "74716e0c-060d-4c9f-a4e0-ac035cbb0e16",
   "metadata": {},
   "outputs": [
    {
     "name": "stdout",
     "output_type": "stream",
     "text": [
      "First Object: 1 , Second Object: 2 , Third Object: Hello\n"
     ]
    }
   ],
   "source": [
    "#Inserted objects can be assigned keyword\n",
    "print('First Object: {a} , Second Object: {b} , Third Object: {c}'.format(a=1,b=2,c='Hello'))"
   ]
  },
  {
   "cell_type": "code",
   "execution_count": 31,
   "id": "2ef10b94-6b0c-4805-9456-e5a026e489d9",
   "metadata": {},
   "outputs": [
    {
     "name": "stdout",
     "output_type": "stream",
     "text": [
      "[1, 2, 3, 4, 5, 6]\n"
     ]
    }
   ],
   "source": [
    "#Assign alist to an variable \n",
    "my_list = [1,2,3,4,5,6]\n",
    "print(my_list)"
   ]
  },
  {
   "cell_type": "code",
   "execution_count": 32,
   "id": "3a40a6b1-6f20-4a27-b1cd-4aa18af421b7",
   "metadata": {},
   "outputs": [
    {
     "name": "stdout",
     "output_type": "stream",
     "text": [
      "['Anjali', 3, 10, 4, 'A', 65]\n"
     ]
    }
   ],
   "source": [
    "my_list =['Anjali',3,10,4,'A',65]         #Lists are mutable\n",
    "print(my_list)"
   ]
  },
  {
   "cell_type": "code",
   "execution_count": 33,
   "id": "b03100a2-934f-4e59-96b9-75fa1951f434",
   "metadata": {},
   "outputs": [
    {
     "data": {
      "text/plain": [
       "6"
      ]
     },
     "execution_count": 33,
     "metadata": {},
     "output_type": "execute_result"
    }
   ],
   "source": [
    "len(my_list)"
   ]
  },
  {
   "cell_type": "code",
   "execution_count": 36,
   "id": "ff03af3d-658a-480c-87f8-6fb7d74f6729",
   "metadata": {},
   "outputs": [
    {
     "name": "stdout",
     "output_type": "stream",
     "text": [
      "Anjali\n",
      "['Anjali', 3]\n",
      "[10, 4, 'A', 65]\n"
     ]
    }
   ],
   "source": [
    "#Indexing and slising in list\n",
    "print(my_list[0])\n",
    "print(my_list[:2])\n",
    "print(my_list[2:])"
   ]
  },
  {
   "cell_type": "code",
   "execution_count": 37,
   "id": "f603ee8f-1673-410c-b416-b4ed768d4886",
   "metadata": {},
   "outputs": [
    {
     "data": {
      "text/plain": [
       "['Anjali', 3, 10, 4, 'A', 65, 'Arushi']"
      ]
     },
     "execution_count": 37,
     "metadata": {},
     "output_type": "execute_result"
    }
   ],
   "source": [
    "my_list + ['Arushi']     #Cocatenate Lists"
   ]
  },
  {
   "cell_type": "code",
   "execution_count": 38,
   "id": "bb8e4480-2b06-4261-be57-4c89ab959d4a",
   "metadata": {},
   "outputs": [
    {
     "name": "stdout",
     "output_type": "stream",
     "text": [
      "['Anjali', 3, 10, 4, 'A', 65]\n"
     ]
    }
   ],
   "source": [
    "print(my_list)  #still iteem is not added because we havent reassigned"
   ]
  },
  {
   "cell_type": "code",
   "execution_count": 40,
   "id": "8b2f9fcf-bb6c-4893-a23d-870489333018",
   "metadata": {},
   "outputs": [
    {
     "name": "stdout",
     "output_type": "stream",
     "text": [
      "['Anjali', 3, 10, 4, 'A', 65, 'Arushi', 'Arushi']\n"
     ]
    }
   ],
   "source": [
    "#Reassign\n",
    "my_list=my_list + ['Arushi']\n",
    "print(my_list)"
   ]
  },
  {
   "cell_type": "code",
   "execution_count": 41,
   "id": "973483b9-5c49-4888-8d68-d40c60843c69",
   "metadata": {},
   "outputs": [],
   "source": [
    "#Basic lists methods\n",
    "new_list=[1,2,4,5,3,6]"
   ]
  },
  {
   "cell_type": "code",
   "execution_count": 42,
   "id": "877c6efa-77bf-4cf1-b3bb-286ba83b6da3",
   "metadata": {},
   "outputs": [
    {
     "name": "stdout",
     "output_type": "stream",
     "text": [
      "[1, 2, 4, 5, 3, 6, 'Anjali']\n"
     ]
    }
   ],
   "source": [
    "#Append\n",
    "new_list.append('Anjali')\n",
    "print(new_list)"
   ]
  },
  {
   "cell_type": "code",
   "execution_count": 43,
   "id": "919b0fba-124e-4756-86e6-c57e7b7b2cd6",
   "metadata": {},
   "outputs": [
    {
     "name": "stdout",
     "output_type": "stream",
     "text": [
      "[1, 2, 4, 5, 3, 6, 'Anjali']\n"
     ]
    }
   ],
   "source": [
    "print(new_list) #In append no need to reassign as it adds it"
   ]
  },
  {
   "cell_type": "code",
   "execution_count": 44,
   "id": "8f4c60c5-969a-49ec-b7b5-dabfffd7b655",
   "metadata": {},
   "outputs": [
    {
     "data": {
      "text/plain": [
       "'Anjali'"
      ]
     },
     "execution_count": 44,
     "metadata": {},
     "output_type": "execute_result"
    }
   ],
   "source": [
    "#pop off the last element in list\n",
    "new_list.pop()"
   ]
  },
  {
   "cell_type": "code",
   "execution_count": 45,
   "id": "c75e3dca-acc2-45c1-8d38-33074d0c774a",
   "metadata": {},
   "outputs": [
    {
     "name": "stdout",
     "output_type": "stream",
     "text": [
      "[1, 2, 4, 5, 3, 6]\n"
     ]
    }
   ],
   "source": [
    "print(new_list)  #last elemnt poped"
   ]
  },
  {
   "cell_type": "code",
   "execution_count": 46,
   "id": "b1f19bfe-0752-4966-b844-28b01b380730",
   "metadata": {},
   "outputs": [
    {
     "name": "stdout",
     "output_type": "stream",
     "text": [
      "[1, 2, 5, 3, 6]\n"
     ]
    }
   ],
   "source": [
    "new_list.pop(2)   #pop indexed item\n",
    "print(new_list)    "
   ]
  },
  {
   "cell_type": "code",
   "execution_count": 47,
   "id": "4cc18df8-83d9-4352-97e9-10ea51a18e75",
   "metadata": {},
   "outputs": [
    {
     "name": "stdout",
     "output_type": "stream",
     "text": [
      "{'key1': 'Value1', 'key2': 'Value2', 'Key3': 'Value3'}\n"
     ]
    }
   ],
   "source": [
    "#Dictionary \n",
    "Dict = {'key1':'Value1','key2':'Value2','Key3':'Value3'}\n",
    "print(Dict)"
   ]
  },
  {
   "cell_type": "code",
   "execution_count": 48,
   "id": "ea2e6aa1-6f9a-416b-811a-e6f901d2fb1e",
   "metadata": {},
   "outputs": [
    {
     "data": {
      "text/plain": [
       "'Value3'"
      ]
     },
     "execution_count": 48,
     "metadata": {},
     "output_type": "execute_result"
    }
   ],
   "source": [
    "#call values by their key\n",
    "Dict['Key3']"
   ]
  },
  {
   "cell_type": "code",
   "execution_count": 49,
   "id": "ecb29e64-98c9-4daf-93a0-5a41cef08e41",
   "metadata": {},
   "outputs": [
    {
     "name": "stdout",
     "output_type": "stream",
     "text": [
      "{'Key1': [1, 2, 3], 'Key2': 123, 'Key3': ['Anjali', 'Sonavane']}\n"
     ]
    }
   ],
   "source": [
    "#WE can give lists also as a value\n",
    "Dict1={'Key1':[1,2,3],'Key2':123,'Key3':['Anjali','Sonavane']}\n",
    "print(Dict1)"
   ]
  },
  {
   "cell_type": "code",
   "execution_count": 53,
   "id": "ce6e6223-cc3f-4135-9cb3-45c15bfaac8a",
   "metadata": {},
   "outputs": [
    {
     "data": {
      "text/plain": [
       "2"
      ]
     },
     "execution_count": 53,
     "metadata": {},
     "output_type": "execute_result"
    }
   ],
   "source": [
    "Dict1['Key1'][1]  # Access single element from the list value of key1"
   ]
  },
  {
   "cell_type": "code",
   "execution_count": 55,
   "id": "929b1307-2e01-4073-8a4c-4dc17124d3cb",
   "metadata": {},
   "outputs": [
    {
     "data": {
      "text/plain": [
       "'ANJALI'"
      ]
     },
     "execution_count": 55,
     "metadata": {},
     "output_type": "execute_result"
    }
   ],
   "source": [
    "Dict1['Key3'][0].upper()"
   ]
  },
  {
   "cell_type": "code",
   "execution_count": 56,
   "id": "201a75d9-a620-4002-98db-81b5a86470e1",
   "metadata": {},
   "outputs": [],
   "source": [
    "#Add 123 in the dict\n",
    "Dict1['Key2']=Dict1['Key2']+ 123"
   ]
  },
  {
   "cell_type": "code",
   "execution_count": 57,
   "id": "9e3c0d82-4013-46c3-8ac0-f0599d654a87",
   "metadata": {},
   "outputs": [
    {
     "name": "stdout",
     "output_type": "stream",
     "text": [
      "{'Key1': [1, 2, 3], 'Key2': 246, 'Key3': ['Anjali', 'Sonavane']}\n"
     ]
    }
   ],
   "source": [
    "print(Dict1)  #This means Dict are also Muttable"
   ]
  },
  {
   "cell_type": "code",
   "execution_count": 58,
   "id": "a01431ec-93ba-47fa-90ec-c33635517576",
   "metadata": {},
   "outputs": [],
   "source": [
    "Dict1['Key3']=Dict1['Key3'].append('Arushi')"
   ]
  },
  {
   "cell_type": "code",
   "execution_count": 59,
   "id": "57f0ca12-ed8b-427a-997d-36f3bec31b0b",
   "metadata": {},
   "outputs": [
    {
     "name": "stdout",
     "output_type": "stream",
     "text": [
      "{'Key1': [1, 2, 3], 'Key2': 246, 'Key3': None}\n"
     ]
    }
   ],
   "source": [
    "print(Dict1)       \n",
    "#The append() method modifies the list in place and does not return a new list. It returns None.\n",
    "#So, when you do Dict1['Key3'].append('Arushi'), it adds 'Arushi' to the list that is currently associated with 'Key3'. However, because append() returns None, you're actually assigning None to Dict1['Key3'], replacing the existing list with None"
   ]
  },
  {
   "cell_type": "code",
   "execution_count": 60,
   "id": "347ec89c-710f-4002-a51c-f68d703bdfd0",
   "metadata": {},
   "outputs": [
    {
     "name": "stdout",
     "output_type": "stream",
     "text": [
      "(1, 2, 3, 3, 3, 'Anjali', 'Aru')\n"
     ]
    }
   ],
   "source": [
    "#Tuples (THey are IMMUTABLE\n",
    "Tuple=(1,2,3,3,3,'Anjali','Aru')\n",
    "print(Tuple)\n"
   ]
  },
  {
   "cell_type": "code",
   "execution_count": 62,
   "id": "739999f2-4b0e-4c1c-bfd1-908675312140",
   "metadata": {},
   "outputs": [
    {
     "data": {
      "text/plain": [
       "1"
      ]
     },
     "execution_count": 62,
     "metadata": {},
     "output_type": "execute_result"
    }
   ],
   "source": [
    "Tuple[0]\n"
   ]
  },
  {
   "cell_type": "code",
   "execution_count": 63,
   "id": "60fc8317-c8a2-40ca-96f7-0631ea8be498",
   "metadata": {},
   "outputs": [
    {
     "data": {
      "text/plain": [
       "'Aru'"
      ]
     },
     "execution_count": 63,
     "metadata": {},
     "output_type": "execute_result"
    }
   ],
   "source": [
    "#Slicing Just like a list\n",
    "Tuple[-1]"
   ]
  },
  {
   "cell_type": "code",
   "execution_count": 64,
   "id": "b7ac2353-facc-4bd6-8436-08aaa47689dd",
   "metadata": {},
   "outputs": [
    {
     "data": {
      "text/plain": [
       "7"
      ]
     },
     "execution_count": 64,
     "metadata": {},
     "output_type": "execute_result"
    }
   ],
   "source": [
    "len(Tuple)"
   ]
  },
  {
   "cell_type": "code",
   "execution_count": 65,
   "id": "dbf76bbc-cd57-4afc-9705-9854a6bf575a",
   "metadata": {},
   "outputs": [
    {
     "ename": "TypeError",
     "evalue": "'tuple' object does not support item assignment",
     "output_type": "error",
     "traceback": [
      "\u001b[1;31m---------------------------------------------------------------------------\u001b[0m",
      "\u001b[1;31mTypeError\u001b[0m                                 Traceback (most recent call last)",
      "Cell \u001b[1;32mIn[65], line 1\u001b[0m\n\u001b[1;32m----> 1\u001b[0m Tuple[\u001b[38;5;241m0\u001b[39m]\u001b[38;5;241m=\u001b[39m\u001b[38;5;124m'\u001b[39m\u001b[38;5;124mSonavane\u001b[39m\u001b[38;5;124m'\u001b[39m\n",
      "\u001b[1;31mTypeError\u001b[0m: 'tuple' object does not support item assignment"
     ]
    }
   ],
   "source": [
    "Tuple[0]='Sonavane' #Because its Immutable"
   ]
  },
  {
   "cell_type": "code",
   "execution_count": 66,
   "id": "73013e07-92d4-4cef-8717-01bd919d27ed",
   "metadata": {},
   "outputs": [
    {
     "data": {
      "text/plain": [
       "{1, 2, 3, 4}"
      ]
     },
     "execution_count": 66,
     "metadata": {},
     "output_type": "execute_result"
    }
   ],
   "source": [
    "#Sets (Does not allow duplicate)\n",
    "{1,2,3,4}"
   ]
  },
  {
   "cell_type": "code",
   "execution_count": 67,
   "id": "4606ad26-8b4a-4f66-bc82-25eb551b44e2",
   "metadata": {},
   "outputs": [
    {
     "data": {
      "text/plain": [
       "{1, 2, 3, 4, 5}"
      ]
     },
     "execution_count": 67,
     "metadata": {},
     "output_type": "execute_result"
    }
   ],
   "source": [
    "{1,2,2,2,3,4,5,5} #(Does not allow duplicate)"
   ]
  },
  {
   "cell_type": "code",
   "execution_count": 68,
   "id": "a9bad2aa-079a-4afe-a477-d4c75a9f03a8",
   "metadata": {},
   "outputs": [
    {
     "data": {
      "text/plain": [
       "set"
      ]
     },
     "execution_count": 68,
     "metadata": {},
     "output_type": "execute_result"
    }
   ],
   "source": [
    "type({1,2,3,4})\n"
   ]
  },
  {
   "cell_type": "code",
   "execution_count": 69,
   "id": "ff3123c1-dd0e-4217-b5a4-b9dc13eb78eb",
   "metadata": {},
   "outputs": [],
   "source": [
    "Set=set() #set() is a built-in function in Python used to create a set, which is an unordered collection of unique elements."
   ]
  },
  {
   "cell_type": "code",
   "execution_count": 70,
   "id": "440623ad-d990-45b9-961f-bc6ae4e8e7f1",
   "metadata": {},
   "outputs": [
    {
     "name": "stdout",
     "output_type": "stream",
     "text": [
      "set()\n"
     ]
    }
   ],
   "source": [
    "print(Set)"
   ]
  },
  {
   "cell_type": "code",
   "execution_count": 71,
   "id": "b6666c28-6680-4bc6-ac08-3d89fa9b4e66",
   "metadata": {},
   "outputs": [
    {
     "name": "stdout",
     "output_type": "stream",
     "text": [
      "{1, 2, 3}\n"
     ]
    }
   ],
   "source": [
    "Set.add(1)\n",
    "Set.add(2)\n",
    "Set.add(3)\n",
    "print(Set)"
   ]
  },
  {
   "cell_type": "code",
   "execution_count": 73,
   "id": "bd65b354-f454-4512-b4ed-2a4b933a3cac",
   "metadata": {},
   "outputs": [
    {
     "name": "stdout",
     "output_type": "stream",
     "text": [
      "{1, 2, 3, 5}\n"
     ]
    }
   ],
   "source": [
    "Set.add(5)\n",
    "Set.add(3)   #(Does not allow duplicate)\n",
    "print(Set)"
   ]
  },
  {
   "cell_type": "code",
   "execution_count": 75,
   "id": "a1bcf83d-0f06-4e5c-8744-4f9ad35e7a5f",
   "metadata": {},
   "outputs": [
    {
     "name": "stdout",
     "output_type": "stream",
     "text": [
      "Yes! It was true.\n"
     ]
    }
   ],
   "source": [
    "#if , elif, else Statements\n",
    "if True:\n",
    "    print(\"Yes! It was true.\")"
   ]
  },
  {
   "cell_type": "code",
   "execution_count": 76,
   "id": "ab6185f4-619c-4fea-9da8-c142c40f5ca6",
   "metadata": {},
   "outputs": [
    {
     "name": "stdout",
     "output_type": "stream",
     "text": [
      "I will be printed in any case where x is not true\n"
     ]
    }
   ],
   "source": [
    "x=False\n",
    "\n",
    "if x:\n",
    "    print(\"Yes ! it was true\")\n",
    "else:\n",
    "    print('I will be printed in any case where {} is not true'.format('x'))"
   ]
  },
  {
   "cell_type": "code",
   "execution_count": 78,
   "id": "daef4920-29a1-42b7-833c-db77415e6847",
   "metadata": {},
   "outputs": [
    {
     "name": "stdout",
     "output_type": "stream",
     "text": [
      "Welcome to Andra pradesh\n"
     ]
    }
   ],
   "source": [
    "#Multiple Branches\n",
    "loc= 'Andra Pradesh'\n",
    "\n",
    "if loc=='Bangalore':\n",
    "    print('Welcome to Bangalore')\n",
    "elif loc=='Andra Pradesh':\n",
    "    print('Welcome to Andra pradesh')\n",
    "else:\n",
    "    print('where are you?')"
   ]
  },
  {
   "cell_type": "code",
   "execution_count": 2,
   "id": "c58b3909-5caf-494e-9fda-b4eff6a83670",
   "metadata": {},
   "outputs": [
    {
     "name": "stdout",
     "output_type": "stream",
     "text": [
      "my_list[2] is the greatest number\n"
     ]
    }
   ],
   "source": [
    "#Find greatest of 3 numbers\n",
    "\n",
    "my_list=[10,30,50]\n",
    "\n",
    "if my_list[0]>my_list[1] and my_list[0]>my_list[2]:\n",
    "    print(\"my_list[0] is the greatest number\")\n",
    "elif my_list[1] > my_list[0] and my_list[1] > my_list[2]:\n",
    "        print(\"my_list[1] is the greatest number\")\n",
    "else:\n",
    "    print(\"my_list[2] is the greatest number\")"
   ]
  },
  {
   "cell_type": "code",
   "execution_count": 5,
   "id": "6337a8cf-e9ab-4bf3-862b-6184523d86fb",
   "metadata": {},
   "outputs": [
    {
     "name": "stdin",
     "output_type": "stream",
     "text": [
      "Enter the number of units consumed:  3550\n"
     ]
    },
    {
     "name": "stdout",
     "output_type": "stream",
     "text": [
      "Total electricity bill for 3550 units: Rs. 43600\n"
     ]
    }
   ],
   "source": [
    "#Electricity bill\n",
    "\n",
    "def calculate_electricity_bill(units):\n",
    "    if units <= 200:\n",
    "        bill = 0\n",
    "    elif units <= 500:\n",
    "        bill = (units - 200) * 8\n",
    "    elif units <= 1000:\n",
    "        bill = (300 * 8) + (units - 500) * 11\n",
    "    else:\n",
    "        bill = (300 * 8) + (500 * 11) + (units - 1000) * 14\n",
    "    \n",
    "    return bill\n",
    "\n",
    "units = int(input(\"Enter the number of units consumed: \"))\n",
    "bill_amount = calculate_electricity_bill(units)\n",
    "\n",
    "print(f\"Total electricity bill for {units} units: Rs. {bill_amount}\")"
   ]
  },
  {
   "cell_type": "code",
   "execution_count": 15,
   "id": "fd29e797-8b2a-4fef-9962-1db7ee847c1d",
   "metadata": {},
   "outputs": [
    {
     "name": "stdout",
     "output_type": "stream",
     "text": [
      "Tax applied: 1305000.0\n",
      "3045000.0\n"
     ]
    }
   ],
   "source": [
    "#income tax\n",
    "total = 4500000\n",
    "savings = 150000\n",
    "rem = 0\n",
    "\n",
    "if savings < 200000:\n",
    "    rem = total - savings\n",
    "    sav=rem\n",
    "else:\n",
    "    rem = total - 200000 \n",
    "\n",
    "\n",
    "if rem <= 1000000:\n",
    "    tax = rem * 0.10  # 10% tax\n",
    "    print(f\"Tax applied: rs{tax}\")\n",
    "elif rem <= 1200000:\n",
    "    tax = rem * 0.20  # 20% tax\n",
    "    print(f\"Tax applied: {tax}\")\n",
    "else:\n",
    "    tax = rem * 0.30  # 30% tax\n",
    "    print(f\"Tax applied: {tax}\")\n",
    "\n",
    "final_amount = sav- tax\n",
    "print(final_amount)\n"
   ]
  },
  {
   "cell_type": "code",
   "execution_count": 18,
   "id": "6a0c0059-e463-4c10-8ac3-65ed22098bc4",
   "metadata": {},
   "outputs": [
    {
     "name": "stdout",
     "output_type": "stream",
     "text": [
      "Total interest earned in 1 year on ₹6500000: ₹1045000.0\n"
     ]
    }
   ],
   "source": [
    "#3rd code\n",
    "def calculate_fd_interest(amount, years=1):\n",
    "    first_limit = 10_00_000  \n",
    "    second_limit = 15_00_000 \n",
    "    remaining_limit = amount - (first_limit + second_limit)\n",
    "    \n",
    "    interest_first = first_limit * 0.10 * years  \n",
    "    interest_second = second_limit * 0.15 * years \n",
    "    interest_remaining = remaining_limit * 0.18 * years  \n",
    "    \n",
    "    total_interest = interest_first + interest_second + interest_remaining\n",
    "    \n",
    "    return total_interest\n",
    "\n",
    "# Total FD amount\n",
    "fd_amount = 65_00_000\n",
    "interest_earned = calculate_fd_interest(fd_amount, 1)  \n",
    "print(f\"Total interest earned in 1 year on ₹{fd_amount}: ₹{interest_earned}\")"
   ]
  },
  {
   "cell_type": "code",
   "execution_count": 19,
   "id": "7be1d192-beda-4f4a-b6df-588ef208f39d",
   "metadata": {},
   "outputs": [
    {
     "name": "stdout",
     "output_type": "stream",
     "text": [
      "For Salary: ₹4500000, Savings: ₹150000 -> Tax to be paid: ₹985000.00\n",
      "For Salary: ₹6200000, Savings: ₹350000 -> Tax to be paid: ₹1480000.00\n"
     ]
    }
   ],
   "source": [
    "#2nd code\n",
    "def calculate_tax(salary, savings):\n",
    "    deductible_savings = min(savings, 200000)\n",
    "    taxable_salary = salary - deductible_savings\n",
    "\n",
    "    if taxable_salary <= 1000000:\n",
    "        return taxable_salary * 0.10\n",
    "    elif taxable_salary <= 2200000:\n",
    "        return 100000 + (taxable_salary - 1000000) * 0.20\n",
    "    else:\n",
    "        return 340000 + (taxable_salary - 2200000) * 0.30\n",
    "\n",
    "# Eg:\n",
    "salaries_savings = [(4500000, 150000), (6200000, 350000)]\n",
    "\n",
    "for salary, savings in salaries_savings:\n",
    "    tax = calculate_tax(salary, savings)\n",
    "    print(f\"For Salary: ₹{salary}, Savings: ₹{savings} -> Tax to be paid: ₹{tax:.2f}\")\n",
    "\n",
    "\n"
   ]
  },
  {
   "cell_type": "code",
   "execution_count": 17,
   "id": "20042db1-0ac2-4e56-8e04-05d71ed926b3",
   "metadata": {},
   "outputs": [
    {
     "name": "stdout",
     "output_type": "stream",
     "text": [
      "2\n",
      "4\n",
      "6\n"
     ]
    }
   ],
   "source": [
    "list1=[1,3,2,4,5,6]\n",
    "for num in list1:\n",
    "    if num % 2 ==0:\n",
    "        print(num)"
   ]
  },
  {
   "cell_type": "code",
   "execution_count": 27,
   "id": "377451fe-1bb9-409e-a6ab-44ef9b1f8a9d",
   "metadata": {},
   "outputs": [
    {
     "name": "stdout",
     "output_type": "stream",
     "text": [
      "7 is a prime number.\n"
     ]
    }
   ],
   "source": [
    "def is_prime(n):\n",
    "    if n <= 1:  # If the number is 1 or less, it's not prime\n",
    "        return False\n",
    "    for i in range(2, n):  # Start checking from 2 up to n-1\n",
    "        if n % i == 0:  # If n is divisible by i\n",
    "            return False  # It’s not a prime number\n",
    "    return True  # If no divisors found, it's prime\n",
    "\n",
    "# Test the function\n",
    "n = 7\n",
    "if is_prime(n):\n",
    "    print(f\"{n} is a prime number.\")\n",
    "else:\n",
    "    print(f\"{n} is not a prime number.\")"
   ]
  },
  {
   "cell_type": "code",
   "execution_count": 20,
   "id": "12b472d5-a413-4792-bc38-49fadca85931",
   "metadata": {},
   "outputs": [
    {
     "name": "stdout",
     "output_type": "stream",
     "text": [
      "Not an armstrong number\n"
     ]
    }
   ],
   "source": [
    "num=153\n",
    "original=num\n",
    "count_digit=len(str(num))\n",
    "sum_of_digit=0\n",
    "\n",
    "for digit_char in str(num):  \n",
    "    digit = int(digit_char)  \n",
    "    sum_of_digit += digit ** count_digit \n",
    "    \n",
    "if sum_of_digit==original:\n",
    "    print(\"It is an armstrong number\")\n",
    "\n",
    "else:\n",
    "    print(\"Not an armstrong number\")\n",
    "    "
   ]
  },
  {
   "cell_type": "code",
   "execution_count": 21,
   "id": "68fb26b8-65fc-471a-a066-d544ea0b2a02",
   "metadata": {},
   "outputs": [
    {
     "name": "stdout",
     "output_type": "stream",
     "text": [
      "2 3 5 7 11 13 "
     ]
    }
   ],
   "source": [
    "# list of prime numbers\n",
    "\n",
    "for num in range(2, 15):  # Check numbers from 2 to 14\n",
    "    for i in range(2, num):  # Check if num is divisible by any number from 2 to num-1\n",
    "        if num % i == 0:  # If num is divisible by i\n",
    "            break  # Not a prime number, exit the loop\n",
    "    else:\n",
    "        print(num, end=\" \")  # If no break occurred, it's a prime number\n",
    "\n"
   ]
  },
  {
   "cell_type": "code",
   "execution_count": 51,
   "id": "474e8ff9-f296-46c4-b842-cbe19703e432",
   "metadata": {},
   "outputs": [
    {
     "name": "stdout",
     "output_type": "stream",
     "text": [
      "[1, 2, 6, 7, 30, 80]\n"
     ]
    }
   ],
   "source": [
    "#Ascending\n",
    "List=[2,6,7,1,30,80]\n",
    "n=len(List)\n",
    "\n",
    "for i in range(n):\n",
    "    min_index=i\n",
    "    for j in range(i+1,n):\n",
    "        if List[j]<List[min_index]:\n",
    "            min_index=j\n",
    "\n",
    "    List[i],List[min_index]=List[min_index],List[i]\n",
    "\n",
    "print(List)\n"
   ]
  },
  {
   "cell_type": "code",
   "execution_count": 52,
   "id": "d850a68d-0098-4af2-b118-f4cd1f91c2d1",
   "metadata": {},
   "outputs": [
    {
     "name": "stdout",
     "output_type": "stream",
     "text": [
      "[80, 30, 7, 6, 2, 1]\n"
     ]
    }
   ],
   "source": [
    "#Descending\n",
    "List=[2,6,7,1,30,80]\n",
    "n=len(List)\n",
    "\n",
    "for i in range(n):\n",
    "    min_index=i\n",
    "    for j in range(i+1,n):\n",
    "        if List[j]>List[min_index]:\n",
    "            min_index=j\n",
    "\n",
    "    List[i],List[min_index]=List[min_index],List[i]\n",
    "\n",
    "print(List)"
   ]
  },
  {
   "cell_type": "code",
   "execution_count": 58,
   "id": "4c32174b-5384-4da9-b899-7654e9dda894",
   "metadata": {},
   "outputs": [
    {
     "name": "stdout",
     "output_type": "stream",
     "text": [
      "arthsrahaM ,rupaloS ygolonhcet fo etutitsnI DNAHCLAW\n"
     ]
    }
   ],
   "source": [
    "#Reverse a string\n",
    "string=\"WALCHAND Institute of technology Solapur, Maharshtra\"\n",
    "reversed_string=\"\"\n",
    "\n",
    "for char in string:\n",
    "    reversed_string=char+reversed_string\n",
    "\n",
    "print(reversed_string)"
   ]
  },
  {
   "cell_type": "code",
   "execution_count": 60,
   "id": "beda7305-56ce-42b7-b445-8ff9d0845c6f",
   "metadata": {},
   "outputs": [
    {
     "name": "stdout",
     "output_type": "stream",
     "text": [
      "W L H N   n t t t   f t c n l g   o a u , M h r h r "
     ]
    }
   ],
   "source": [
    "#Even position\n",
    "string=\"WALCHAND Institute of technology Solapur, Maharshtra\"\n",
    "\n",
    "for i in range(0,len(string),2):\n",
    "    print(string[i],end=\" \")\n"
   ]
  },
  {
   "cell_type": "code",
   "execution_count": 61,
   "id": "3522e677-9d06-405d-8ca4-dc1921f50049",
   "metadata": {},
   "outputs": [
    {
     "name": "stdout",
     "output_type": "stream",
     "text": [
      "A C A D I s i u e o   e h o o y S l p r   a a s t a "
     ]
    }
   ],
   "source": [
    "#Odd position\n",
    "string=\"WALCHAND Institute of technology Solapur, Maharshtra\"\n",
    "\n",
    "for i in range(1,len(string),2):\n",
    "    print(string[i],end=\" \")\n"
   ]
  },
  {
   "cell_type": "code",
   "execution_count": 62,
   "id": "540ac209-c219-47d6-a554-676ef7ca0a41",
   "metadata": {},
   "outputs": [
    {
     "name": "stdout",
     "output_type": "stream",
     "text": [
      "a : 6\n",
      "c : 2\n",
      "d : 1\n",
      "e : 2\n",
      "f : 1\n",
      "g : 1\n",
      "h : 4\n",
      "i : 2\n",
      "l : 3\n",
      "m : 1\n",
      "n : 3\n",
      "o : 4\n",
      "p : 1\n",
      "r : 3\n",
      "s : 3\n",
      "t : 5\n",
      "u : 2\n",
      "w : 1\n",
      "y : 1\n"
     ]
    }
   ],
   "source": [
    "string=\"WALCHAND Institute of technology Solapur, Maharshtra\"\n",
    "string=string.lower()\n",
    "\n",
    "alphabet_count=[0]*26\n",
    "\n",
    "for char in string:\n",
    "    if 'a' <= char <= 'z':\n",
    "        index= ord(char) - ord('a')\n",
    "        alphabet_count[index]+=1\n",
    "\n",
    "for i in range(26):\n",
    "    if alphabet_count[i]>0:\n",
    "        print(f\"{chr(i + ord('a'))} : {alphabet_count[i]}\")\n",
    "        "
   ]
  },
  {
   "cell_type": "code",
   "execution_count": null,
   "id": "dbad8596-3120-4091-afb9-ea4fde608686",
   "metadata": {},
   "outputs": [],
   "source": [
    "#vowels\n",
    "string=\"WALCHAND Institute of technology Solapur, Maharshtra\"\n",
    "vowels=\"aeiou\"\n",
    "vowels_count={}   #Empty dictionary for vowels\n",
    "\n",
    "lower_string=\"\"\n",
    "\n",
    "for ch in string:\n",
    "    if 'A' <= ch <= 'Z':\n",
    "        lower_string += char(ord(ch) +32)\n",
    "    else:\n",
    "        lower_string += ch\n",
    "\n",
    "for ch in lower_string:\n",
    "    for 'a' <= ch <= 'z':\n",
    "    \n"
   ]
  },
  {
   "cell_type": "code",
   "execution_count": null,
   "id": "6f74f87c-bd3c-4c8b-8119-4439db1ad4ae",
   "metadata": {},
   "outputs": [],
   "source": [
    "#split String"
   ]
  },
  {
   "cell_type": "code",
   "execution_count": 5,
   "id": "27326bc2-8ea6-4142-a8f7-10a96ea7272f",
   "metadata": {},
   "outputs": [
    {
     "name": "stdout",
     "output_type": "stream",
     "text": [
      "52\n"
     ]
    }
   ],
   "source": [
    "#Customized Len function \n",
    "\n",
    "def length(string):\n",
    "    count=0\n",
    "    for ch in string:\n",
    "        count+=1\n",
    "    return count\n",
    "\n",
    "string=\"WALCHAND Institute of technology Solapur, Maharshtra\"\n",
    "result=length(string)\n",
    "print(result)\n",
    "\n"
   ]
  },
  {
   "cell_type": "code",
   "execution_count": 9,
   "id": "56ac1326-3b5a-4ab0-8252-19a19a680d2f",
   "metadata": {},
   "outputs": [
    {
     "name": "stdout",
     "output_type": "stream",
     "text": [
      "WALCHAND INSTITUTE OF TECHNOLOGY SOLAPUR, MAHARASHTRA\n"
     ]
    }
   ],
   "source": [
    "#customized Upper case\n",
    "def upper(string):\n",
    "    upper_string = \"\"\n",
    "    for ch in string:\n",
    "        if 'a' <= ch <= 'z': \n",
    "            upper_string += chr(ord(ch) - 32) \n",
    "        else:\n",
    "            upper_string += ch  \n",
    "    return upper_string  \n",
    "\n",
    "string = \"WALCHAND Institute of technology Solapur, Maharashtra\"\n",
    "result = upper(string)\n",
    "print(result)\n"
   ]
  },
  {
   "cell_type": "code",
   "execution_count": 11,
   "id": "2cc15ccf-188e-449b-9084-a1bd32e3b428",
   "metadata": {},
   "outputs": [
    {
     "name": "stdout",
     "output_type": "stream",
     "text": [
      "walchand institute of technology solapur, maharashtra\n"
     ]
    }
   ],
   "source": [
    "#Customized lower case\n",
    "def lower(string):\n",
    "    lower_string=\"\"\n",
    "    for ch in string:\n",
    "        if 'A' <= ch <= 'Z':\n",
    "            lower_string += chr(ord(ch) +32)\n",
    "        else:\n",
    "            lower_string+= ch\n",
    "    return lower_string\n",
    "\n",
    "string = \"WALCHAND Institute of technology Solapur, Maharashtra\"\n",
    "result = lower(string)\n",
    "print(result)\n"
   ]
  },
  {
   "cell_type": "markdown",
   "id": "7ff1f46e-59d4-4d7f-ac0c-1dd6b693528f",
   "metadata": {},
   "source": [
    "# While-else prime no"
   ]
  },
  {
   "cell_type": "code",
   "execution_count": 13,
   "id": "748186a0-86ef-4a94-bcd0-c9d6406ee28d",
   "metadata": {},
   "outputs": [
    {
     "name": "stdin",
     "output_type": "stream",
     "text": [
      "Enter a number : 7\n"
     ]
    },
    {
     "name": "stdout",
     "output_type": "stream",
     "text": [
      "7 is a prime number\n"
     ]
    }
   ],
   "source": [
    "num=int(input(\"Enter a number :\"))\n",
    "\n",
    "if num<2:\n",
    "    print(num, \"is not a prime number\")\n",
    "else:\n",
    "    i=2\n",
    "\n",
    "while(i<num):\n",
    "    if(num % 2==0):\n",
    "        print(num ,\"is not a prime number\")\n",
    "        break\n",
    "    i+=1\n",
    "else:\n",
    "    print(num, \"is a prime number\")\n",
    "        "
   ]
  },
  {
   "cell_type": "markdown",
   "id": "03464a73-9810-4981-b6fc-6c61f3c8a4ce",
   "metadata": {},
   "source": [
    "# While-else Armstrong no"
   ]
  },
  {
   "cell_type": "code",
   "execution_count": 19,
   "id": "524f0924-c1dc-4349-b6bc-d411f728f2b0",
   "metadata": {},
   "outputs": [
    {
     "name": "stdin",
     "output_type": "stream",
     "text": [
      "Enter a number : 153\n"
     ]
    },
    {
     "name": "stdout",
     "output_type": "stream",
     "text": [
      "153 is an Armstrong number\n"
     ]
    }
   ],
   "source": [
    "num=int(input(\"Enter a number :\"))\n",
    "original=num\n",
    "count=len(str(num))\n",
    "sum_of_num=0\n",
    "\n",
    "while num>0:\n",
    "    digit = num % 10 \n",
    "    sum_of_num += digit ** count  \n",
    "    num = num // 10 \n",
    "\n",
    "if (original == sum_of_num):\n",
    "    print(original,\"is an Armstrong number\")\n",
    "else:\n",
    "    print(original,\"is not an Armstrong number\")"
   ]
  },
  {
   "cell_type": "markdown",
   "id": "4a437e01-da84-4dd1-bf89-d36e1447cfed",
   "metadata": {},
   "source": [
    "# While-else prime nos in range"
   ]
  },
  {
   "cell_type": "code",
   "execution_count": 2,
   "id": "0e2fdb6c-79c3-4ee2-92e9-025f40e72ced",
   "metadata": {},
   "outputs": [
    {
     "name": "stdin",
     "output_type": "stream",
     "text": [
      "Enter range 10\n"
     ]
    },
    {
     "name": "stdout",
     "output_type": "stream",
     "text": [
      "2 3 5 7 9 "
     ]
    }
   ],
   "source": [
    "range=int(input(\"Enter range\"))\n",
    "num=2\n",
    "while num<range:\n",
    "    i=2\n",
    "    while i<num:\n",
    "        if(num % 2 ==0):\n",
    "            break\n",
    "        i+=1\n",
    "    else:\n",
    "        print(num,end=\" \")\n",
    "    num+=1"
   ]
  },
  {
   "cell_type": "markdown",
   "id": "88d8e1d0-565e-44b3-b87c-a2e9e9ca3948",
   "metadata": {},
   "source": [
    "# While-else Ascending sorting"
   ]
  },
  {
   "cell_type": "code",
   "execution_count": 9,
   "id": "874a3276-3839-4b41-be60-b97065232019",
   "metadata": {},
   "outputs": [
    {
     "name": "stdout",
     "output_type": "stream",
     "text": [
      "[2, 3, 5, 20, 60, 90]\n"
     ]
    }
   ],
   "source": [
    "List=[2,60,3,90,20,5]\n",
    "n=len(List)\n",
    "i=0\n",
    "while i<n:\n",
    "    min_index=i\n",
    "    j=i+1\n",
    "    while j<n:\n",
    "        if (List[j]<List[min_index]):\n",
    "            min_index=j\n",
    "        j += 1\n",
    "    List[i],List[min_index]=List[min_index],List[i]\n",
    "    i += 1\n",
    "print(List)"
   ]
  },
  {
   "cell_type": "markdown",
   "id": "e7ff638c-803e-48d8-86c9-9b4937b6eeda",
   "metadata": {},
   "source": [
    "# While-else Ascending sorting"
   ]
  },
  {
   "cell_type": "code",
   "execution_count": 10,
   "id": "aeb816e0-a4bc-44a3-bd22-47a8fff6d3e1",
   "metadata": {},
   "outputs": [
    {
     "name": "stdout",
     "output_type": "stream",
     "text": [
      "[90, 60, 20, 5, 3, 2]\n"
     ]
    }
   ],
   "source": [
    "List=[2,60,3,90,20,5]\n",
    "n=len(List)\n",
    "i=0\n",
    "\n",
    "while i<n:\n",
    "    min_index=i\n",
    "    j=i+1\n",
    "    while j<n:\n",
    "        if List[j]>List[min_index]:\n",
    "            min_index=j\n",
    "        j+=1\n",
    "    List[i],List[min_index]=List[min_index],List[i]\n",
    "    i+=1\n",
    "print(List)"
   ]
  },
  {
   "cell_type": "markdown",
   "id": "21a87eae-bf66-4288-8bb8-f0b3276a7b04",
   "metadata": {},
   "source": [
    "# While-else Reverse Strting"
   ]
  },
  {
   "cell_type": "code",
   "execution_count": 12,
   "id": "6c4fcbb9-9b50-4dc8-a560-0d389bb0eecd",
   "metadata": {},
   "outputs": [
    {
     "name": "stdout",
     "output_type": "stream",
     "text": [
      "arthsrahaM ,rupaloS ygolonhcet fo etutitsnI DNAHCLAW\n"
     ]
    }
   ],
   "source": [
    "string=\"WALCHAND Institute of technology Solapur, Maharshtra\"\n",
    "index=len(string)-1\n",
    "reversed_string=\"\"\n",
    "\n",
    "while index>=0:\n",
    "    reversed_string+=string[index]\n",
    "    index-=1\n",
    "else:\n",
    "    print(reversed_string)\n",
    "    "
   ]
  },
  {
   "cell_type": "markdown",
   "id": "b181ee5b-9626-4a72-bc86-19d74aa6979d",
   "metadata": {},
   "source": [
    "# While-else Even string"
   ]
  },
  {
   "cell_type": "code",
   "execution_count": 13,
   "id": "4402be5a-c64b-40b4-9212-d22f7ea4ea89",
   "metadata": {},
   "outputs": [
    {
     "name": "stdout",
     "output_type": "stream",
     "text": [
      "W L H N   n t t t   f t c n l g   o a u , M h r h r "
     ]
    }
   ],
   "source": [
    "string=\"WALCHAND Institute of technology Solapur, Maharshtra\"\n",
    "length=len(string)\n",
    "i=0\n",
    "\n",
    "while i<length:\n",
    "    print(string[i],end=\" \")\n",
    "    i+=2\n",
    "    "
   ]
  },
  {
   "cell_type": "markdown",
   "id": "41215e7f-142b-49e6-b117-c53f042dbb4c",
   "metadata": {},
   "source": [
    "# While-else Odd String"
   ]
  },
  {
   "cell_type": "code",
   "execution_count": 14,
   "id": "b1377f0b-4a3c-429c-af0d-7591fdef67bd",
   "metadata": {},
   "outputs": [
    {
     "name": "stdout",
     "output_type": "stream",
     "text": [
      "A C A D I s i u e o   e h o o y S l p r   a a s t a "
     ]
    }
   ],
   "source": [
    "string=\"WALCHAND Institute of technology Solapur, Maharshtra\"\n",
    "length=len(string)\n",
    "i=1\n",
    "\n",
    "while i<length:\n",
    "    print(string[i],end=\" \")\n",
    "    i+=2\n",
    "    "
   ]
  },
  {
   "cell_type": "markdown",
   "id": "00fe0020-8b02-4442-8624-c1d354a2e149",
   "metadata": {},
   "source": [
    "# While-else count alphabets"
   ]
  },
  {
   "cell_type": "code",
   "execution_count": 19,
   "id": "2082ce10-6d99-43f7-b78e-e14a58aaf111",
   "metadata": {},
   "outputs": [
    {
     "name": "stdout",
     "output_type": "stream",
     "text": [
      "a : 6\n",
      "c : 2\n",
      "d : 1\n",
      "e : 2\n",
      "f : 1\n",
      "g : 1\n",
      "h : 4\n",
      "i : 2\n",
      "l : 3\n",
      "m : 1\n",
      "n : 3\n",
      "o : 4\n",
      "p : 1\n",
      "r : 3\n",
      "s : 3\n",
      "t : 5\n",
      "u : 2\n",
      "w : 1\n",
      "y : 1\n"
     ]
    }
   ],
   "source": [
    "string=\"WALCHAND Institute of technology Solapur, Maharshtra\"\n",
    "n=len(string)\n",
    "string=string.lower()\n",
    "alphabets=[0]*26\n",
    "index=0\n",
    "\n",
    "while index<n:\n",
    "    char=string[index]\n",
    "    if 'a' <= char <= 'z':\n",
    "        pos=ord(char)-ord('a')\n",
    "        alphabets[pos]+=1\n",
    "    index+=1\n",
    "\n",
    "else:\n",
    "    i=0\n",
    "    while i<26:\n",
    "        if alphabets[i]>0:\n",
    "             print(f\"{chr(i + ord('a'))} : {alphabets[i]}\")\n",
    "        i+=1"
   ]
  },
  {
   "cell_type": "markdown",
   "id": "a6a23e3a-f3fa-4ddf-be77-4161b6d5db7d",
   "metadata": {},
   "source": [
    "# Function of Aarmstrong no\n"
   ]
  },
  {
   "cell_type": "code",
   "execution_count": 25,
   "id": "dc561267-4b8a-4439-922c-0ebe089739c9",
   "metadata": {},
   "outputs": [
    {
     "name": "stdin",
     "output_type": "stream",
     "text": [
      "Enter a number 153\n"
     ]
    },
    {
     "name": "stdout",
     "output_type": "stream",
     "text": [
      "153 is an Armstrong number\n"
     ]
    }
   ],
   "source": [
    "def Armstrong(num):\n",
    "    original=num\n",
    "    count=len(str(num))\n",
    "    sum_of_digit=0\n",
    "    i=0\n",
    "    while(num>0):\n",
    "        digit=num % 10\n",
    "        sum_of_digit+= digit ** count\n",
    "        num =num //10\n",
    "\n",
    "    if (original == sum_of_digit):\n",
    "        print(original,\"is an Armstrong number\")\n",
    "    else:\n",
    "        Print(original,\"is not an Armstrong nnumber\")\n",
    "\n",
    "num=int(input(\"Enter a number\"))\n",
    "result=Armstrong(num)\n"
   ]
  },
  {
   "cell_type": "markdown",
   "id": "c185572d-fe33-4954-a705-7d240083c86d",
   "metadata": {},
   "source": [
    "# Function i Ascending Sorting"
   ]
  },
  {
   "cell_type": "code",
   "execution_count": 30,
   "id": "6a0fa0eb-fa1a-4e48-97dd-b9ae8dcf600f",
   "metadata": {},
   "outputs": [
    {
     "ename": "TypeError",
     "evalue": "'int' object is not callable",
     "output_type": "error",
     "traceback": [
      "\u001b[1;31m---------------------------------------------------------------------------\u001b[0m",
      "\u001b[1;31mTypeError\u001b[0m                                 Traceback (most recent call last)",
      "Cell \u001b[1;32mIn[30], line 12\u001b[0m\n\u001b[0;32m      9\u001b[0m     \u001b[38;5;28mprint\u001b[39m(List)\n\u001b[0;32m     11\u001b[0m List \u001b[38;5;241m=\u001b[39m [\u001b[38;5;241m2\u001b[39m, \u001b[38;5;241m90\u001b[39m, \u001b[38;5;241m40\u001b[39m, \u001b[38;5;241m5\u001b[39m, \u001b[38;5;241m9\u001b[39m, \u001b[38;5;241m0\u001b[39m]\n\u001b[1;32m---> 12\u001b[0m sort(List)\n",
      "Cell \u001b[1;32mIn[30], line 2\u001b[0m, in \u001b[0;36msort\u001b[1;34m(List)\u001b[0m\n\u001b[0;32m      1\u001b[0m \u001b[38;5;28;01mdef\u001b[39;00m \u001b[38;5;21msort\u001b[39m(List):\n\u001b[1;32m----> 2\u001b[0m     \u001b[38;5;28;01mfor\u001b[39;00m i \u001b[38;5;129;01min\u001b[39;00m \u001b[38;5;28mrange\u001b[39m(\u001b[38;5;241m0\u001b[39m, \u001b[38;5;28mlen\u001b[39m(List)):\n\u001b[0;32m      3\u001b[0m         min_index \u001b[38;5;241m=\u001b[39m i  \u001b[38;5;66;03m# Assume the first unsorted element is the minimum\u001b[39;00m\n\u001b[0;32m      4\u001b[0m         \u001b[38;5;28;01mfor\u001b[39;00m j \u001b[38;5;129;01min\u001b[39;00m \u001b[38;5;28mrange\u001b[39m(i\u001b[38;5;241m+\u001b[39m\u001b[38;5;241m1\u001b[39m, \u001b[38;5;28mlen\u001b[39m(List)):\n",
      "\u001b[1;31mTypeError\u001b[0m: 'int' object is not callable"
     ]
    }
   ],
   "source": [
    "def sort(List):\n",
    "    for i in range(0, len(List)):\n",
    "        min_index = i  # Assume the first unsorted element is the minimum\n",
    "        for j in range(i+1, len(List)):\n",
    "            if List[j] < List[min_index]:  # Find the smallest element\n",
    "                min_index = j  # Update the index of the smallest element\n",
    "        # Swap the found minimum element with the first unsorted element\n",
    "        List[i], List[min_index] = List[min_index], List[i]\n",
    "    print(List)\n",
    "\n",
    "List = [2, 90, 40, 5, 9, 0]\n",
    "sort(List)\n"
   ]
  },
  {
   "cell_type": "code",
   "execution_count": null,
   "id": "140dbea0-c73f-4149-affa-e76c9a6bd412",
   "metadata": {},
   "outputs": [],
   "source": []
  }
 ],
 "metadata": {
  "kernelspec": {
   "display_name": "Python 3 (ipykernel)",
   "language": "python",
   "name": "python3"
  },
  "language_info": {
   "codemirror_mode": {
    "name": "ipython",
    "version": 3
   },
   "file_extension": ".py",
   "mimetype": "text/x-python",
   "name": "python",
   "nbconvert_exporter": "python",
   "pygments_lexer": "ipython3",
   "version": "3.12.7"
  }
 },
 "nbformat": 4,
 "nbformat_minor": 5
}
