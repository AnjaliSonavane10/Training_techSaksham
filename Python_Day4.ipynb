{
 "cells": [
  {
   "cell_type": "markdown",
   "id": "e46d9381-5c7e-4673-8c6a-af6c9db64455",
   "metadata": {},
   "source": [
    "# File Handling"
   ]
  },
  {
   "cell_type": "code",
   "execution_count": 3,
   "id": "16533b8d-9805-4a15-a6e1-b441b838035d",
   "metadata": {},
   "outputs": [],
   "source": [
    "our_text_file=open(\"Anjali_sample.txt\",\"w\")   # file created"
   ]
  },
  {
   "cell_type": "code",
   "execution_count": 10,
   "id": "64f0466f-3bdf-445d-8fb1-5d0be6be15fb",
   "metadata": {},
   "outputs": [
    {
     "name": "stdout",
     "output_type": "stream",
     "text": [
      "Hello\n",
      "r\n"
     ]
    }
   ],
   "source": [
    "with open(\"Anjali_sample.txt\",\"r\") as our_text_file:\n",
    "    content=our_text_file.read()\n",
    "    print(content)\n",
    "    print(our_text_file.mode)"
   ]
  },
  {
   "cell_type": "code",
   "execution_count": 9,
   "id": "f75f8ec0-bc79-46d1-b060-1e37af88be69",
   "metadata": {},
   "outputs": [
    {
     "name": "stdout",
     "output_type": "stream",
     "text": [
      "C:\\Users\\Admin\\Anjali_python\n"
     ]
    }
   ],
   "source": [
    "import os\n",
    "print(os.getcwd())"
   ]
  },
  {
   "cell_type": "code",
   "execution_count": null,
   "id": "686ff6af-3f41-4f11-afb8-0b85add115df",
   "metadata": {},
   "outputs": [],
   "source": [
    "# Default Constructor\n",
    "class Student:\n",
    "    # Class variables\n",
    "    id_no = 10\n",
    "    name = 'stud1'\n",
    "    \n",
    "    # Default constructor\n",
    "    def __init__(self):\n",
    "        # You can initialize more default values if needed\n",
    "        print(\"Default constructor called\")\n",
    "        print(f\"ID No: {self.id_no}\")\n",
    "        print(f\"Name: {self.name}\")\n",
    "\n",
    "# Creating an object of the Student cl\n",
    "student1 = Student()\n"
   ]
  },
  {
   "cell_type": "code",
   "execution_count": 6,
   "id": "efecb2f9-fac5-45cd-88b8-2e725b9f9574",
   "metadata": {},
   "outputs": [
    {
     "name": "stdout",
     "output_type": "stream",
     "text": [
      "Hello my name is anjali and my age is 21\n"
     ]
    }
   ],
   "source": [
    "class person:\n",
    "    def __init__(self,name,age):\n",
    "        self.name=name\n",
    "        self.age=age\n",
    "        \n",
    "    def myfun(self):\n",
    "        print(f\"Hello my name is {self.name} and my age is {self.age}\")\n",
    "p1=person(\"anjali\",21)\n",
    "p1.myfun()"
   ]
  },
  {
   "cell_type": "code",
   "execution_count": 2,
   "id": "23f164f9-b677-40ec-a8f7-cd71a31cd517",
   "metadata": {},
   "outputs": [
    {
     "name": "stdout",
     "output_type": "stream",
     "text": [
      "THis is Second constructor:\n"
     ]
    }
   ],
   "source": [
    "class MulConst:\n",
    "    def __init__(self):\n",
    "        print(\"This is First constructor:\")\n",
    "    def __init__(self):\n",
    "        print(\"This is Second constructor:\") \n",
    "\n",
    "p1=MulConst()"
   ]
  },
  {
   "cell_type": "code",
   "execution_count": 8,
   "id": "2739cb9b-952e-49e4-8996-e39e60ccf909",
   "metadata": {},
   "outputs": [
    {
     "name": "stdout",
     "output_type": "stream",
     "text": [
      "Point (3, 9)\n"
     ]
    }
   ],
   "source": [
    "#magic method\n",
    "class Point:\n",
    "    def __init__(self, x, y):\n",
    "        self.x = x\n",
    "        self.y = y\n",
    "\n",
    "    def __str__(self):\n",
    "        return f\"Point ({self.x}, {self.y})\"\n",
    "\n",
    "    def draw(self):\n",
    "        print(f\"Point ({self.x}, {self.y})\")\n",
    "\n",
    "p = Point(3, 9)\n",
    "print(str(p))\n"
   ]
  },
  {
   "cell_type": "code",
   "execution_count": 11,
   "id": "080dc9dc-36d2-41ff-ba45-9bacc2d85e82",
   "metadata": {},
   "outputs": [
    {
     "name": "stdout",
     "output_type": "stream",
     "text": [
      "True\n",
      "False\n"
     ]
    }
   ],
   "source": [
    "# Compares Magic methods\n",
    "class Point:\n",
    "    def __init__(self, x, y):  \n",
    "        self.x = x\n",
    "        self.y = y\n",
    "        \n",
    "    def __eq__(self, other): \n",
    "        return self.x == other.x and self.y == other.y\n",
    "    \n",
    "    def __lt__(self, other): \n",
    "        return self.x < other.x and self.y < other.y\n",
    "\n",
    "po = Point(3, 9)\n",
    "an = Point(13, 19)\n",
    "\n",
    "print(po < an)  # Output: True, since 3 < 13 and 9 < 19\n",
    "print(po == an) # Output: False, since (3, 9) is not equal to (13, 19)\n"
   ]
  },
  {
   "cell_type": "code",
   "execution_count": 14,
   "id": "ee65aa33-c7fa-42d1-9282-fa0dea64d5ba",
   "metadata": {},
   "outputs": [
    {
     "name": "stdout",
     "output_type": "stream",
     "text": [
      "Addition: (16, 28)\n",
      "Multiplication: (39, 171)\n",
      "Division: (0.23076923076923078, 0.47368421052631576)\n"
     ]
    }
   ],
   "source": [
    "#Numericals operations\n",
    "class Point:\n",
    "    def __init__(self, x, y):  \n",
    "        self.x = x\n",
    "        self.y = y\n",
    "        \n",
    "    def __add__(self, other):  # Addition\n",
    "        return Point(self.x + other.x, self.y + other.y)\n",
    "    \n",
    "    def __mul__(self, other):  # Multiplication\n",
    "        return Point(self.x * other.x, self.y * other.y)\n",
    "    \n",
    "    def __truediv__(self, other):  # Division\n",
    "        return Point(self.x / other.x, self.y / other.y)\n",
    "\n",
    "po = Point(3, 9)\n",
    "an = Point(13, 19)\n",
    "\n",
    "comp_add = po + an\n",
    "print(f\"Addition: ({comp_add.x}, {comp_add.y})\")\n",
    "\n",
    "# Performing multiplication\n",
    "comp_mul = po * an\n",
    "print(f\"Multiplication: ({comp_mul.x}, {comp_mul.y})\")\n",
    "\n",
    "# Performing division\n",
    "comp_div = po / an\n",
    "print(f\"Division: ({comp_div.x}, {comp_div.y})\")\n"
   ]
  },
  {
   "cell_type": "code",
   "execution_count": 16,
   "id": "7a5e091f-ef88-48d6-bfc6-29f902219c9d",
   "metadata": {},
   "outputs": [
    {
     "name": "stdout",
     "output_type": "stream",
     "text": [
      "All animals Eat\n"
     ]
    }
   ],
   "source": [
    "class Animal:\n",
    "    def eat(self):\n",
    "        print(\"All animals Eat\")\n",
    "\n",
    "class mammal(Animal):\n",
    "    def walk(self):\n",
    "        print(\"Walk\")\n",
    "\n",
    "class Fish:\n",
    "    def eat(self):\n",
    "        print(\"Fish eats\")\n",
    "\n",
    "obj1=mammal()\n",
    "obj1.eat()\n"
   ]
  },
  {
   "cell_type": "markdown",
   "id": "4753ad46-f013-4542-bb42-9816d973645d",
   "metadata": {},
   "source": [
    "# Single Inheritance"
   ]
  },
  {
   "cell_type": "code",
   "execution_count": 21,
   "id": "34aae496-99ce-425d-9923-b3709aaec101",
   "metadata": {},
   "outputs": [
    {
     "name": "stdout",
     "output_type": "stream",
     "text": [
      "age:  1\n",
      "Fish eats\n",
      "Weight:  10\n",
      "age:  1\n"
     ]
    }
   ],
   "source": [
    "class Animal:\n",
    "    def __init__(self):  #Constructor\n",
    "        self.age=1\n",
    "        print('age: ',self.age)\n",
    "    \n",
    "    def eat(self):\n",
    "        print(\"All animals Eat\")\n",
    "\n",
    "class mammal(Animal):\n",
    "    def __init__(self):\n",
    "        self.weight=10\n",
    "        print('Weight: ',self.weight)\n",
    "        super().__init__()      #calls the super class consructor\n",
    "        \n",
    "    def walk(self):\n",
    "        print(\"Walk\")\n",
    "\n",
    "\n",
    "class Fish(Animal):\n",
    "    def eat(self):\n",
    "        print(\"Fish eats\")\n",
    "\n",
    "obj=Fish()\n",
    "obj.eat()\n",
    "obj2=mammal()\n"
   ]
  },
  {
   "cell_type": "markdown",
   "id": "54bef287-d23b-4fbd-a204-2175545cb764",
   "metadata": {},
   "source": [
    "# Multiple Inheritance"
   ]
  },
  {
   "cell_type": "code",
   "execution_count": 23,
   "id": "57f26cdd-66c5-49a6-829a-a0d55c59eeb2",
   "metadata": {},
   "outputs": [
    {
     "name": "stdout",
     "output_type": "stream",
     "text": [
      "Manager class calls...\n",
      "Last Greet class\n"
     ]
    }
   ],
   "source": [
    "class Employee:\n",
    "    def greet(self):\n",
    "        print(\"Employee class\")\n",
    "\n",
    "class person:\n",
    "    def greet(self):\n",
    "        print(\"Last Greet class\")\n",
    "\n",
    "class Manager(person,Employee):\n",
    "    def __init__(self):\n",
    "        print(\"Manager class calls...\")\n",
    "\n",
    "obj=Manager()\n",
    "obj.greet()"
   ]
  },
  {
   "cell_type": "code",
   "execution_count": 25,
   "id": "8c6bfa59-291b-4b39-9ca2-7f62fcc8e2ee",
   "metadata": {},
   "outputs": [],
   "source": [
    "from abc import ABC, abstractmethod\n",
    "\n",
    "class File(ABC):\n",
    "    def __init__(self):\n",
    "        self.opened=False\n",
    "\n",
    "    def open_file(self):\n",
    "        if self.opened:\n",
    "            print(\"File is already open\")\n",
    "        self.opened=True\n",
    "\n",
    "    def close(self):\n",
    "        if not self.opened:\n",
    "            print(\"File is already close\")\n",
    "        self.opened=False\n",
    "\n",
    "    @abstractmethod\n",
    "\n",
    "    def read(self):\n",
    "        pass"
   ]
  },
  {
   "cell_type": "code",
   "execution_count": 26,
   "id": "7e90726d-e94f-41cf-8a09-af992ed84f20",
   "metadata": {},
   "outputs": [
    {
     "data": {
      "text/plain": [
       "['__add__',\n",
       " '__class__',\n",
       " '__contains__',\n",
       " '__delattr__',\n",
       " '__dir__',\n",
       " '__doc__',\n",
       " '__eq__',\n",
       " '__format__',\n",
       " '__ge__',\n",
       " '__getattribute__',\n",
       " '__getitem__',\n",
       " '__getnewargs__',\n",
       " '__getstate__',\n",
       " '__gt__',\n",
       " '__hash__',\n",
       " '__init__',\n",
       " '__init_subclass__',\n",
       " '__iter__',\n",
       " '__le__',\n",
       " '__len__',\n",
       " '__lt__',\n",
       " '__mod__',\n",
       " '__mul__',\n",
       " '__ne__',\n",
       " '__new__',\n",
       " '__reduce__',\n",
       " '__reduce_ex__',\n",
       " '__repr__',\n",
       " '__rmod__',\n",
       " '__rmul__',\n",
       " '__setattr__',\n",
       " '__sizeof__',\n",
       " '__str__',\n",
       " '__subclasshook__',\n",
       " 'capitalize',\n",
       " 'casefold',\n",
       " 'center',\n",
       " 'count',\n",
       " 'encode',\n",
       " 'endswith',\n",
       " 'expandtabs',\n",
       " 'find',\n",
       " 'format',\n",
       " 'format_map',\n",
       " 'index',\n",
       " 'isalnum',\n",
       " 'isalpha',\n",
       " 'isascii',\n",
       " 'isdecimal',\n",
       " 'isdigit',\n",
       " 'isidentifier',\n",
       " 'islower',\n",
       " 'isnumeric',\n",
       " 'isprintable',\n",
       " 'isspace',\n",
       " 'istitle',\n",
       " 'isupper',\n",
       " 'join',\n",
       " 'ljust',\n",
       " 'lower',\n",
       " 'lstrip',\n",
       " 'maketrans',\n",
       " 'partition',\n",
       " 'removeprefix',\n",
       " 'removesuffix',\n",
       " 'replace',\n",
       " 'rfind',\n",
       " 'rindex',\n",
       " 'rjust',\n",
       " 'rpartition',\n",
       " 'rsplit',\n",
       " 'rstrip',\n",
       " 'split',\n",
       " 'splitlines',\n",
       " 'startswith',\n",
       " 'strip',\n",
       " 'swapcase',\n",
       " 'title',\n",
       " 'translate',\n",
       " 'upper',\n",
       " 'zfill']"
      ]
     },
     "execution_count": 26,
     "metadata": {},
     "output_type": "execute_result"
    }
   ],
   "source": [
    "dir(str) #shows all methos of string"
   ]
  },
  {
   "cell_type": "code",
   "execution_count": 28,
   "id": "cdf874a7-1a2d-45dd-b3bf-dc4433e8b1ee",
   "metadata": {},
   "outputs": [
    {
     "data": {
      "text/plain": [
       "'pythonpython'"
      ]
     },
     "execution_count": 28,
     "metadata": {},
     "output_type": "execute_result"
    }
   ],
   "source": [
    "class Text(str):\n",
    "    def duplicate(self):\n",
    "        return self + self\n",
    "\n",
    "text=Text(\"python\")\n",
    "text.duplicate()"
   ]
  },
  {
   "cell_type": "code",
   "execution_count": null,
   "id": "cd455ea1-89f5-4e55-a263-1049b825e24d",
   "metadata": {},
   "outputs": [],
   "source": []
  }
 ],
 "metadata": {
  "kernelspec": {
   "display_name": "Python 3 (ipykernel)",
   "language": "python",
   "name": "python3"
  },
  "language_info": {
   "codemirror_mode": {
    "name": "ipython",
    "version": 3
   },
   "file_extension": ".py",
   "mimetype": "text/x-python",
   "name": "python",
   "nbconvert_exporter": "python",
   "pygments_lexer": "ipython3",
   "version": "3.12.7"
  }
 },
 "nbformat": 4,
 "nbformat_minor": 5
}
