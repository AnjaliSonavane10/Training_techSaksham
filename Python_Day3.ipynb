{
 "cells": [
  {
   "cell_type": "markdown",
   "id": "c24d380c-9e68-4224-9411-dace4d262407",
   "metadata": {},
   "source": [
    "# Get input 2 variable from user and take a choice and perform operations"
   ]
  },
  {
   "cell_type": "code",
   "execution_count": 7,
   "id": "23cda960-0095-412c-aaa9-8ae1484ee470",
   "metadata": {},
   "outputs": [
    {
     "name": "stdin",
     "output_type": "stream",
     "text": [
      "Enter first number:  2\n",
      "Enter second number:  3\n",
      "Enter Third number:  1\n"
     ]
    },
    {
     "name": "stdout",
     "output_type": "stream",
     "text": [
      "\n",
      "Choose an operation:\n",
      "1: Addition\n",
      "2: Subtraction\n",
      "3: Multiplication\n",
      "4: Division\n",
      "5: Exit\n"
     ]
    },
    {
     "name": "stdin",
     "output_type": "stream",
     "text": [
      "Enter your choice (1-5):  1\n"
     ]
    },
    {
     "name": "stdout",
     "output_type": "stream",
     "text": [
      "Result: 6\n",
      "\n",
      "Choose an operation:\n",
      "1: Addition\n",
      "2: Subtraction\n",
      "3: Multiplication\n",
      "4: Division\n",
      "5: Exit\n"
     ]
    },
    {
     "name": "stdin",
     "output_type": "stream",
     "text": [
      "Enter your choice (1-5):  5\n"
     ]
    },
    {
     "name": "stdout",
     "output_type": "stream",
     "text": [
      "Exiting...\n"
     ]
    }
   ],
   "source": [
    "def add(num1, num2, num3):\n",
    "    return num1 + num2 + num3\n",
    "\n",
    "def subtract(num1, num2, num3):\n",
    "    return num1 - num2 - num3\n",
    "\n",
    "def multiply(num1, num2, num3):\n",
    "    return num1 * num2 * num3\n",
    "\n",
    "def divide(num1, num2, num3):\n",
    "    if num2 == 0 and num3 == 0:\n",
    "        return \"Cannot divide by zero\"\n",
    "    return num1 / num2 / num3\n",
    "\n",
    "def calculator():\n",
    "    num1 = int(input(\"Enter first number: \"))\n",
    "    num2 = int(input(\"Enter second number: \"))\n",
    "    num3 = int(input(\"Enter Third number: \"))\n",
    "\n",
    "    while True:\n",
    "        print(\"\\nChoose an operation:\")\n",
    "        print(\"1: Addition\")\n",
    "        print(\"2: Subtraction\")\n",
    "        print(\"3: Multiplication\")\n",
    "        print(\"4: Division\")\n",
    "        print(\"5: Exit\")\n",
    "\n",
    "        choice = input(\"Enter your choice (1-5): \")\n",
    "\n",
    "        if choice == \"1\":\n",
    "            print(\"Result:\", add(num1, num2, num3))\n",
    "        elif choice == \"2\":\n",
    "            print(\"Result:\", subtract(num1, num2, num3))\n",
    "        elif choice == \"3\":\n",
    "            print(\"Result:\", multiply(num1, num2, num3))\n",
    "        elif choice == \"4\":\n",
    "            print(\"Result:\", divide(num1, num2, num3))\n",
    "        elif choice == \"5\":\n",
    "            print(\"Exiting...\")\n",
    "            break\n",
    "        else:\n",
    "            print(\"Invalid choice!! Try again.\")\n",
    "\n",
    "calculator()\n"
   ]
  },
  {
   "cell_type": "code",
   "execution_count": 7,
   "id": "c97be5b5-f846-400f-8479-2995e01ca72e",
   "metadata": {},
   "outputs": [
    {
     "name": "stdin",
     "output_type": "stream",
     "text": [
      "Enter first number:  2\n",
      "Enter second number:  3\n",
      "Enter Third number:  1\n"
     ]
    },
    {
     "name": "stdout",
     "output_type": "stream",
     "text": [
      "\n",
      "Choose an operation:\n",
      "1: Addition\n",
      "2: Subtraction\n",
      "3: Multiplication\n",
      "4: Division\n",
      "5: Exit\n"
     ]
    },
    {
     "name": "stdin",
     "output_type": "stream",
     "text": [
      "Enter your choice (1-5):  1\n"
     ]
    },
    {
     "name": "stdout",
     "output_type": "stream",
     "text": [
      "Result: 6\n",
      "\n",
      "Choose an operation:\n",
      "1: Addition\n",
      "2: Subtraction\n",
      "3: Multiplication\n",
      "4: Division\n",
      "5: Exit\n"
     ]
    },
    {
     "name": "stdin",
     "output_type": "stream",
     "text": [
      "Enter your choice (1-5):  5\n"
     ]
    },
    {
     "name": "stdout",
     "output_type": "stream",
     "text": [
      "Exiting...\n"
     ]
    }
   ],
   "source": [
    "def add(num1, num2, num3):\n",
    "    return num1 + num2 + num3\n",
    "\n",
    "def subtract(num1, num2, num3):\n",
    "    return num1 - num2 - num3\n",
    "\n",
    "def multiply(num1, num2, num3):\n",
    "    return num1 * num2 * num3\n",
    "\n",
    "def divide(num1, num2, num3):\n",
    "    if num2 == 0 and num3 == 0:\n",
    "        return \"Cannot divide by zero\"\n",
    "    return num1 / num2 / num3\n",
    "\n",
    "def calculator():\n",
    "    num1 = int(input(\"Enter first number: \"))\n",
    "    num2 = int(input(\"Enter second number: \"))\n",
    "    num3 = int(input(\"Enter Third number: \"))\n",
    "\n",
    "    while True:\n",
    "        print(\"\\nChoose an operation:\")\n",
    "        print(\"1: Addition\")\n",
    "        print(\"2: Subtraction\")\n",
    "        print(\"3: Multiplication\")\n",
    "        print(\"4: Division\")\n",
    "        print(\"5: Exit\")\n",
    "\n",
    "        choice = input(\"Enter your choice (1-5): \")\n",
    "\n",
    "        if choice == \"1\":\n",
    "            print(\"Result:\", add(num1, num2, num3))\n",
    "        elif choice == \"2\":\n",
    "            print(\"Result:\", subtract(num1, num2, num3))\n",
    "        elif choice == \"3\":\n",
    "            print(\"Result:\", multiply(num1, num2, num3))\n",
    "        elif choice == \"4\":\n",
    "            print(\"Result:\", divide(num1, num2, num3))\n",
    "        elif choice == \"5\":\n",
    "            print(\"Exiting...\")\n",
    "            break\n",
    "        else:\n",
    "            print(\"Invalid choice!! Try again.\")\n",
    "\n",
    "calculator()\n"
   ]
  },
  {
   "cell_type": "code",
   "execution_count": 20,
   "id": "ee5049f4-db94-48c4-8c12-3b3bf60e3b7c",
   "metadata": {},
   "outputs": [
    {
     "name": "stdout",
     "output_type": "stream",
     "text": [
      "0.4340165827910114\n",
      "4\n",
      "Anu\n"
     ]
    }
   ],
   "source": [
    "import random as rand\n",
    "\n",
    "print(rand.random()*100)\n",
    "\n",
    "print(rand.randint(1,6))\n",
    "\n",
    "names = [\"Anjali\" , \"Arushi\" , \"Anu\" ]\n",
    "print(rand.choice(names))"
   ]
  },
  {
   "cell_type": "code",
   "execution_count": 17,
   "id": "defdfbcd-76a1-4040-a25b-66b890086e78",
   "metadata": {},
   "outputs": [
    {
     "name": "stdout",
     "output_type": "stream",
     "text": [
      "tail\n"
     ]
    }
   ],
   "source": [
    "import random as rand\n",
    "toss=rand.randint(1,2)\n",
    "\n",
    "if toss == 1:\n",
    "    print(\"Tail\")\n",
    "\n",
    "else:\n",
    "    print(\"Head\")"
   ]
  },
  {
   "cell_type": "markdown",
   "id": "686d7057-cd3b-4362-b364-d91b06a58cf8",
   "metadata": {},
   "source": [
    "# Modules"
   ]
  },
  {
   "cell_type": "markdown",
   "id": "bb71bd85-6672-4732-9404-270452dc82a6",
   "metadata": {},
   "source": [
    "# pick any person and that person is going to pay the Bill"
   ]
  },
  {
   "cell_type": "code",
   "execution_count": 24,
   "id": "1b085bc4-1083-4334-870a-4003cf12eeba",
   "metadata": {},
   "outputs": [
    {
     "name": "stdin",
     "output_type": "stream",
     "text": [
      "Enter nmaes of users : Anjali,Arushi,anu\n"
     ]
    },
    {
     "name": "stdout",
     "output_type": "stream",
     "text": [
      "Arushi Should pay the bill\n"
     ]
    }
   ],
   "source": [
    "import random as rand\n",
    "\n",
    "names=input(\"Enter nmaes of users :\").split(\",\")\n",
    "print(rand.choice(names),\"Should pay the bill\")"
   ]
  },
  {
   "cell_type": "code",
   "execution_count": 23,
   "id": "b413b312-dd4c-44ea-a1ff-03e3a93fb4df",
   "metadata": {},
   "outputs": [
    {
     "name": "stdin",
     "output_type": "stream",
     "text": [
      "Enter names of users:  Anjali,Aru,Manasi\n"
     ]
    },
    {
     "name": "stdout",
     "output_type": "stream",
     "text": [
      "Manasi should pay the bill\n"
     ]
    }
   ],
   "source": [
    "#Without using choice() function\n",
    "import random as rand\n",
    "\n",
    "names = input(\"Enter names of users: \").split(\",\")\n",
    "random_index = rand.randint(0, len(names) - 1)\n",
    "print(names[random_index], \"should pay the bill\")\n"
   ]
  },
  {
   "cell_type": "markdown",
   "id": "bf28b136-e7f1-4c03-bf9d-14537a6ed56d",
   "metadata": {},
   "source": [
    "# Game of Guessing Numbers"
   ]
  },
  {
   "cell_type": "code",
   "execution_count": 44,
   "id": "68f2f79b-b629-4b40-b63c-03fd0a3117cc",
   "metadata": {},
   "outputs": [
    {
     "name": "stdin",
     "output_type": "stream",
     "text": [
      "Guess the number from 1 to 55:  20\n"
     ]
    },
    {
     "name": "stdout",
     "output_type": "stream",
     "text": [
      "You're far off!\n",
      "You guessed it Wrong! Now you have 4 chances left\n"
     ]
    },
    {
     "name": "stdin",
     "output_type": "stream",
     "text": [
      "Guess the number from 1 to 55:  10\n"
     ]
    },
    {
     "name": "stdout",
     "output_type": "stream",
     "text": [
      "You're very close!\n",
      "You guessed it Wrong! Now you have 3 chances left\n"
     ]
    },
    {
     "name": "stdin",
     "output_type": "stream",
     "text": [
      "Guess the number from 1 to 55:  9\n"
     ]
    },
    {
     "name": "stdout",
     "output_type": "stream",
     "text": [
      "You're very close!\n",
      "You guessed it Wrong! Now you have 2 chances left\n"
     ]
    },
    {
     "name": "stdin",
     "output_type": "stream",
     "text": [
      "Guess the number from 1 to 55:  8\n"
     ]
    },
    {
     "name": "stdout",
     "output_type": "stream",
     "text": [
      "8 is correct!\n"
     ]
    }
   ],
   "source": [
    "original = rand.randint(1, 55)\n",
    "\n",
    "for i in range(1, 6):\n",
    "    guess = int(input(\"Guess the number from 1 to 55: \"))\n",
    "    if(guess > 55):\n",
    "        print(\"Invalid input!!Enter from 1 to 55\") \n",
    "    elif original != guess:\n",
    "        difference = abs(original - guess)\n",
    "        \n",
    "        if difference <= 3:\n",
    "            print(\"You're very close!\")\n",
    "        elif difference <= 10:\n",
    "            print(\"You're close!\")\n",
    "        else:\n",
    "            print(\"You're far off!\")\n",
    "            \n",
    "        print(\"You guessed it Wrong! Now you have\", 5- i , \"chances left\")\n",
    "    else:\n",
    "        print(guess, \"is correct!\")\n",
    "        break\n",
    "else:\n",
    "    print(\"You've used all attempts. The correct number was:\", original)\n",
    "\n"
   ]
  },
  {
   "cell_type": "markdown",
   "id": "ff8f1b72-022f-43c8-bd9b-840c5a1ea834",
   "metadata": {},
   "source": [
    "# Dictionary"
   ]
  },
  {
   "cell_type": "code",
   "execution_count": 1,
   "id": "c0b1c385-e0af-4832-abf6-b9fbc5e21f8b",
   "metadata": {},
   "outputs": [],
   "source": [
    "empty_dict1={}\n",
    "empty_dict2=dict()"
   ]
  },
  {
   "cell_type": "code",
   "execution_count": 6,
   "id": "5b6d3cb2-9025-408a-b995-a5ff790e3193",
   "metadata": {},
   "outputs": [
    {
     "name": "stdout",
     "output_type": "stream",
     "text": [
      "{1: 'one', 'name': 'Anjali', 'age': '30'}\n"
     ]
    }
   ],
   "source": [
    "emp_info = {1:'one',\n",
    "            'name':'Anjali',\n",
    "            'age' : '30'}\n",
    "print(emp_info)"
   ]
  },
  {
   "cell_type": "code",
   "execution_count": 7,
   "id": "bfeca4ce-36e4-4a18-ab84-b5d95e7480ee",
   "metadata": {},
   "outputs": [
    {
     "name": "stdout",
     "output_type": "stream",
     "text": [
      "{'stud1': {'age': 25, 'rollno': 1000}, 'stud2': {'age': 26, 'rollno': 5000}}\n"
     ]
    }
   ],
   "source": [
    "#Nested Dictionary\n",
    "stud_dict={'stud1':{'age':25,'rollno':1000},\n",
    "           'stud2':{'age':26,'rollno':5000}}\n",
    "print(stud_dict)"
   ]
  },
  {
   "cell_type": "code",
   "execution_count": 9,
   "id": "0e13bd17-5bed-4f7a-b61e-28762207c389",
   "metadata": {},
   "outputs": [
    {
     "data": {
      "text/plain": [
       "25"
      ]
     },
     "execution_count": 9,
     "metadata": {},
     "output_type": "execute_result"
    }
   ],
   "source": [
    "stud_dict['stud1']['age']"
   ]
  },
  {
   "cell_type": "code",
   "execution_count": 10,
   "id": "2f6118b6-ad74-4c62-adfa-0fc6f04b2288",
   "metadata": {},
   "outputs": [
    {
     "name": "stdout",
     "output_type": "stream",
     "text": [
      "{'stud1': {'age': 25, 'rollno': 1000}}\n"
     ]
    }
   ],
   "source": [
    "#Delete a value\n",
    "del stud_dict['stud2']\n",
    "print(stud_dict)"
   ]
  },
  {
   "cell_type": "code",
   "execution_count": 14,
   "id": "c569ccf6-7a56-4849-96bb-741ad2cce29b",
   "metadata": {},
   "outputs": [
    {
     "name": "stdout",
     "output_type": "stream",
     "text": [
      "140737284942424\n",
      "140737284942424\n"
     ]
    }
   ],
   "source": [
    "a=6\n",
    "b=a\n",
    "print(id(a))\n",
    "print(id(b))"
   ]
  },
  {
   "cell_type": "code",
   "execution_count": 31,
   "id": "44b094f6-b30b-4a45-b12c-988d8ec3fcd4",
   "metadata": {},
   "outputs": [
    {
     "name": "stdout",
     "output_type": "stream",
     "text": [
      "140737284942360\n",
      "140737284942424\n"
     ]
    }
   ],
   "source": [
    "a=6       # when changes are made in 'a' but ,it should not affect 'b' so changed 'a' is stored in another address \n",
    "b=a \n",
    "a=4\n",
    "print(id(a))\n",
    "print(id(b))"
   ]
  },
  {
   "cell_type": "code",
   "execution_count": 16,
   "id": "88345afa-af0d-406c-a059-d625fd7626ed",
   "metadata": {},
   "outputs": [
    {
     "name": "stdout",
     "output_type": "stream",
     "text": [
      "1860136888320\n",
      "1860136888320\n"
     ]
    }
   ],
   "source": [
    "List1=[2,5,3,7,8]\n",
    "List2=List1\n",
    "print(id(List1))\n",
    "print(id(List2))"
   ]
  },
  {
   "cell_type": "code",
   "execution_count": 30,
   "id": "051d2c62-7714-46d1-b282-260aeb29a582",
   "metadata": {},
   "outputs": [
    {
     "name": "stdout",
     "output_type": "stream",
     "text": [
      "List2: [2, 5, 3, 7, 8, 20]\n",
      "List1: [2, 5, 3, 7, 8, 20]\n",
      "ID of List1: 1860137155904\n",
      "ID of List2: 1860137155904\n"
     ]
    }
   ],
   "source": [
    "List1 = [2, 5, 3, 7, 8]  # Define List1\n",
    "List2 = List1            # List2 is assigned to the same list as List1\n",
    "List2.append(20)         # Add 20 to List2\n",
    "print(\"List2:\", List2)   # Print List2\n",
    "print(\"List1:\", List1)   # Print List1\n",
    "print(\"ID of List1:\", id(List1))   # Memory address of List1\n",
    "print(\"ID of List2:\", id(List2))   # Memory address of List2\n"
   ]
  },
  {
   "cell_type": "code",
   "execution_count": 29,
   "id": "f5f6e298-b189-46a1-ae20-4a9abcdf6be4",
   "metadata": {},
   "outputs": [
    {
     "name": "stdout",
     "output_type": "stream",
     "text": [
      "List2: [2, 5, 3, 7, 8, 20]\n",
      "List1: [2, 5, 3, 7, 8]\n",
      "ID of List1: 1860137191936\n",
      "ID of List2: 1860137155840\n"
     ]
    }
   ],
   "source": [
    "List1 = [2, 5, 3, 7, 8]  # Define List1\n",
    "List2 = List1.copy()     # Copy List1 into List2\n",
    "List2.append(20)         # Add 20 to List2\n",
    "print(\"List2:\", List2)   # Print List2\n",
    "print(\"List1:\", List1)   # Print List1\n",
    "print(\"ID of List1:\", id(List1))   # Memory address of List1\n",
    "print(\"ID of List2:\", id(List2))   # Memory address of List2\n"
   ]
  },
  {
   "cell_type": "markdown",
   "id": "6fbf978f-467b-410c-aa7d-3f0707eaf345",
   "metadata": {},
   "source": [
    "# Password Program"
   ]
  },
  {
   "cell_type": "code",
   "execution_count": 28,
   "id": "9e637fd5-e2b3-4db1-b698-eb737c902bb1",
   "metadata": {},
   "outputs": [
    {
     "name": "stdin",
     "output_type": "stream",
     "text": [
      "Enter your password:  Anjali#ARU070510\n"
     ]
    },
    {
     "name": "stdout",
     "output_type": "stream",
     "text": [
      "Password is Valid\n"
     ]
    }
   ],
   "source": [
    "password = input(\"Enter your password: \")\n",
    "special_characters = \"!@#$%^&*()-_=+[]{}|;:'\\\",.<>?/\"\n",
    "\n",
    "if 8 <= len(password) <= 16:\n",
    "    has_number = False\n",
    "    has_letter = False\n",
    "    has_special = False\n",
    "\n",
    "    for char in password:\n",
    "        if char.isdigit():\n",
    "            has_number = True\n",
    "        elif char.isalpha():\n",
    "            has_letter = True\n",
    "        elif char in special_characters:\n",
    "            has_special = True\n",
    "\n",
    "    if has_number and has_letter and has_special:\n",
    "        print(\"Password is Valid\")\n",
    "    else:\n",
    "         print(\"Password is invalid. It must contain:\")\n",
    "        if not has_number:\n",
    "            print(\"- At least one digit.\")\n",
    "        if not has_letter:\n",
    "            print(\"- At least one letter.\")\n",
    "        if not has_special:\n",
    "            print(\"- At least one special character.\")\n",
    "else:\n",
    "    print(\"Password length must be between 8 and 16 characters.\")\n",
    "\n",
    "\n"
   ]
  },
  {
   "cell_type": "markdown",
   "id": "68681aee-80ed-4a7a-b395-0e654d68dbf3",
   "metadata": {},
   "source": [
    "# Sum of Non-duplicate values"
   ]
  },
  {
   "cell_type": "code",
   "execution_count": 38,
   "id": "537c8012-aaf5-4347-a467-22da1d27d652",
   "metadata": {},
   "outputs": [
    {
     "name": "stdin",
     "output_type": "stream",
     "text": [
      "Enter 3 numbers :  2,2,4\n"
     ]
    },
    {
     "name": "stdout",
     "output_type": "stream",
     "text": [
      "Sum of non-duplicate values: 4\n"
     ]
    }
   ],
   "source": [
    "numbers = input(\"Enter 3 numbers : \").split(\",\")\n",
    "\n",
    "# Convert each item in the list to an integer\n",
    "numbers = [int(num) for num in numbers]\n",
    "\n",
    "sum_unique = 0\n",
    "\n",
    "for num in numbers:\n",
    "    if numbers.count(num) == 1: \n",
    "        sum_unique += num\n",
    "\n",
    "# Print the result\n",
    "print(\"Sum of non-duplicate values:\", sum_unique)\n"
   ]
  },
  {
   "cell_type": "markdown",
   "id": "1a859038-6653-4d0a-a98e-670b10305e91",
   "metadata": {},
   "source": [
    "# Count Characters"
   ]
  },
  {
   "cell_type": "code",
   "execution_count": 6,
   "id": "ef227069-e523-473e-96c6-85703f5f1b59",
   "metadata": {},
   "outputs": [
    {
     "name": "stdout",
     "output_type": "stream",
     "text": [
      "a : 2 ,  c : 2 ,  d : 1 ,  e : 2 ,  f : 1 ,  g : 1 ,  h : 2 ,  i : 2 ,  l : 2 ,  n : 3 ,  o : 3 ,  s : 1 ,  t : 4 ,  u : 1 ,  w : 1 ,  y : 1 ,  "
     ]
    }
   ],
   "source": [
    "string=\"Walchand Institute of Technology\"\n",
    "string=string.lower()\n",
    "\n",
    "alphabet_count=[0]*26\n",
    "\n",
    "for char in string:\n",
    "    if 'a' <= char <= 'z':\n",
    "        index= ord(char) - ord('a')\n",
    "        alphabet_count[index]+=1\n",
    "\n",
    "for i in range(26):\n",
    "    if alphabet_count[i]>0:\n",
    "        print(f\"{chr(i + ord('a'))} : {alphabet_count[i]}\" , end=\" ,  \")\n",
    "        "
   ]
  },
  {
   "cell_type": "markdown",
   "id": "22772047-6338-44bb-9a2a-39426478c731",
   "metadata": {},
   "source": [
    "# Fizz Buzz program"
   ]
  },
  {
   "cell_type": "code",
   "execution_count": 11,
   "id": "4ebd0802-6d82-4c5b-a1a9-9687ad8ba216",
   "metadata": {},
   "outputs": [
    {
     "name": "stdin",
     "output_type": "stream",
     "text": [
      "Enter the range:  20\n"
     ]
    },
    {
     "name": "stdout",
     "output_type": "stream",
     "text": [
      "1\n",
      "2\n",
      "Fizz\n",
      "4\n",
      "Buzz\n",
      "Fizz\n",
      "7\n",
      "8\n",
      "Fizz\n",
      "Buzz\n",
      "11\n",
      "Fizz\n",
      "13\n",
      "14\n",
      "FizzBuzz\n",
      "16\n",
      "17\n",
      "Fizz\n",
      "19\n"
     ]
    }
   ],
   "source": [
    "num = int(input(\"Enter the range: \"))\n",
    "\n",
    "for i in range(1, num):\n",
    "    if i % 3 == 0 and i % 5 == 0:\n",
    "        print(\"FizzBuzz\")\n",
    "    elif i % 3 == 0:\n",
    "        print(\"Fizz\")\n",
    "    elif i % 5 == 0:\n",
    "        print(\"Buzz\")\n",
    "    else:\n",
    "        print(i)\n"
   ]
  },
  {
   "cell_type": "markdown",
   "id": "ede7c5b3-e81f-4bfc-a965-efd168cb6205",
   "metadata": {},
   "source": [
    "# Password Generator"
   ]
  },
  {
   "cell_type": "code",
   "execution_count": 15,
   "id": "09a3d5e1-c4e1-4e83-96e3-59f46e1f3819",
   "metadata": {},
   "outputs": [
    {
     "name": "stdin",
     "output_type": "stream",
     "text": [
      "Enter Number 10\n"
     ]
    },
    {
     "name": "stdout",
     "output_type": "stream",
     "text": [
      "Generate Password:   ^2Qdk$Tb%5\n"
     ]
    }
   ],
   "source": [
    "import random as rand\n",
    "num=int(input(\"Enter Number\"))\n",
    "pwd=\" \"\n",
    "\n",
    "for i in range(num):\n",
    "    choice=rand.randint(1,4)\n",
    "    \n",
    "    if choice==1:\n",
    "        pwd+=chr(rand.randint(65,90))  #uppercase A-Z\n",
    "        \n",
    "    elif choice==2:\n",
    "        pwd+=chr(rand.randint(97,122))  #Lowercase a-z\n",
    "    \n",
    "    elif choice==3:\n",
    "        pwd+=chr(rand.randint(48,57))  #Digit-0-9\n",
    "        \n",
    "    else:\n",
    "        special_chars = [33, 35, 36, 37, 38, 42, 64, 94]  # Special Characters: ! # $ % & * @ ^\n",
    "        pwd += chr(rand.choice(special_chars))\n",
    "        \n",
    "print(\"Generate Password: \",pwd)\n"
   ]
  },
  {
   "cell_type": "markdown",
   "id": "a081ccf1-a468-4a25-b992-e0226c0ed1ab",
   "metadata": {},
   "source": [
    "# Rock Paper Scissor Program"
   ]
  },
  {
   "cell_type": "code",
   "execution_count": 23,
   "id": "8a43f3ae-e0fc-42df-8606-fb7304d27f8a",
   "metadata": {},
   "outputs": [
    {
     "name": "stdin",
     "output_type": "stream",
     "text": [
      "Enter rock, paper, or scissors:  rock\n"
     ]
    },
    {
     "name": "stdout",
     "output_type": "stream",
     "text": [
      "Computer chose: scissors\n",
      "You win!\n"
     ]
    }
   ],
   "source": [
    "import random\n",
    "\n",
    "choices = [\"rock\", \"paper\", \"scissors\"]\n",
    "\n",
    "user_choice = input(\"Enter rock, paper, or scissors: \").lower()\n",
    "\n",
    "computer_choice = choices[random.randint(0, 2)]\n",
    "\n",
    "print(f\"Computer chose: {computer_choice}\")\n",
    "\n",
    "if user_choice == computer_choice:\n",
    "    print(\"It's a tie!\")\n",
    "    \n",
    "elif (user_choice == \"rock\" and computer_choice == \"scissors\") or \\\n",
    "     (user_choice == \"paper\" and computer_choice == \"rock\") or \\\n",
    "     (user_choice == \"scissors\" and computer_choice == \"paper\"):\n",
    "    print(\"You win!\")\n",
    "else:\n",
    "    print(\"You lose!\")\n"
   ]
  },
  {
   "cell_type": "code",
   "execution_count": null,
   "id": "90adfd3f-568e-46be-85d3-e6e8ca3f1c30",
   "metadata": {},
   "outputs": [],
   "source": []
  }
 ],
 "metadata": {
  "kernelspec": {
   "display_name": "Python 3 (ipykernel)",
   "language": "python",
   "name": "python3"
  },
  "language_info": {
   "codemirror_mode": {
    "name": "ipython",
    "version": 3
   },
   "file_extension": ".py",
   "mimetype": "text/x-python",
   "name": "python",
   "nbconvert_exporter": "python",
   "pygments_lexer": "ipython3",
   "version": "3.12.7"
  }
 },
 "nbformat": 4,
 "nbformat_minor": 5
}
