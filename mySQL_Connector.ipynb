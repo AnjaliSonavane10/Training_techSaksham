{
 "cells": [
  {
   "cell_type": "code",
   "execution_count": 1,
   "id": "fcf8aa14-3eb4-4046-91d3-e92943215a2d",
   "metadata": {},
   "outputs": [
    {
     "name": "stdout",
     "output_type": "stream",
     "text": [
      "Defaulting to user installation because normal site-packages is not writeable\n",
      "Requirement already satisfied: mysql-connector-python in c:\\users\\admin\\appdata\\roaming\\python\\python312\\site-packages (9.2.0)\n",
      "Note: you may need to restart the kernel to use updated packages.\n"
     ]
    }
   ],
   "source": [
    "pip install mysql-connector-python"
   ]
  },
  {
   "cell_type": "markdown",
   "id": "08667f24-8612-4fd9-a279-b01c83d31da2",
   "metadata": {},
   "source": [
    "# Establish connection"
   ]
  },
  {
   "cell_type": "code",
   "execution_count": 9,
   "id": "4b0a07d8-8697-4580-92e5-8d92c4d17f25",
   "metadata": {},
   "outputs": [
    {
     "name": "stdout",
     "output_type": "stream",
     "text": [
      "<mysql.connector.connection.MySQLConnection object at 0x000001DB92C57680>\n"
     ]
    }
   ],
   "source": [
    "import mysql.connector\n",
    "#creating connection object\n",
    "db=mysql.connector.connect(\n",
    "    host=\"localhost\",\n",
    "    user=\"root\",\n",
    "    password=\"Anjali#0705\"\n",
    ")\n",
    "print(db)\n",
    "    "
   ]
  },
  {
   "cell_type": "code",
   "execution_count": 10,
   "id": "054e4e50-1b13-4f1d-8fcf-301c6464c267",
   "metadata": {},
   "outputs": [],
   "source": [
    "dbcursor = db.cursor()\n",
    "dbcursor.execute(\"create database if not exists booklist\")"
   ]
  },
  {
   "cell_type": "code",
   "execution_count": 4,
   "id": "d8e14acb-f3a2-40a7-8bbb-bee71d2b5457",
   "metadata": {},
   "outputs": [],
   "source": [
    "dbcursor.execute(\"show databases\")"
   ]
  },
  {
   "cell_type": "code",
   "execution_count": 5,
   "id": "361f0bb8-3247-45e6-8cee-676dbb2e3226",
   "metadata": {},
   "outputs": [
    {
     "name": "stdout",
     "output_type": "stream",
     "text": [
      "('assignment_schema',)\n",
      "('booklist',)\n",
      "('countries',)\n",
      "('customer_orders',)\n",
      "('employee',)\n",
      "('hr',)\n",
      "('information_schema',)\n",
      "('mysql',)\n",
      "('performance_schema',)\n",
      "('sakila',)\n",
      "('sys',)\n",
      "('temp_schema',)\n",
      "('world',)\n"
     ]
    }
   ],
   "source": [
    "for i in dbcursor:\n",
    "    print(i)"
   ]
  },
  {
   "cell_type": "markdown",
   "id": "67409fe5-2bf6-4e2b-a339-8d01563788fd",
   "metadata": {},
   "source": [
    "# Establish connection using specific database"
   ]
  },
  {
   "cell_type": "code",
   "execution_count": 12,
   "id": "d99d8719-332c-43b3-8cb5-4299417959c1",
   "metadata": {},
   "outputs": [],
   "source": [
    "# for specifying database we are working on\n",
    "import mysql.connector\n",
    "#creating connection object\n",
    "db=mysql.connector.connect(\n",
    "    host=\"localhost\",\n",
    "    user=\"root\",\n",
    "    password=\"Anjali#0705\",\n",
    "    database=\"booklist\"\n",
    ")\n"
   ]
  },
  {
   "cell_type": "markdown",
   "id": "9bf1da29-0ece-4557-940c-c1a9faa47003",
   "metadata": {},
   "source": [
    "# create table in booklist database"
   ]
  },
  {
   "cell_type": "code",
   "execution_count": 13,
   "id": "dcb96f92-ccc0-4f04-98b8-ae38a61c10a8",
   "metadata": {},
   "outputs": [
    {
     "name": "stdout",
     "output_type": "stream",
     "text": [
      "('bookdetail',)\n"
     ]
    }
   ],
   "source": [
    "dbcursor = db.cursor()\n",
    "dbcursor.execute(\"create table if not exists booklist.bookdetail (Rating INT(20),Book VARCHAR(40),price DECIMAL(16,2))\")\n",
    "\n",
    "#dbcursor.execute(\"use booklist\")\n",
    "dbcursor.execute(\"show tables\")\n",
    "\n",
    "for i in dbcursor:\n",
    "    print(i)"
   ]
  },
  {
   "cell_type": "markdown",
   "id": "2823929e-ddee-41cf-b99b-25e9f72493a4",
   "metadata": {},
   "source": [
    "# Insert data in table"
   ]
  },
  {
   "cell_type": "code",
   "execution_count": 22,
   "id": "193ed737-506e-4baa-97f7-b47338c143fb",
   "metadata": {},
   "outputs": [
    {
     "name": "stdout",
     "output_type": "stream",
     "text": [
      "('bookdetail',)\n"
     ]
    }
   ],
   "source": [
    "dbcursor.execute(\"\"\"\n",
    "    INSERT INTO bookdetail VALUES \n",
    "    (5, 'book1', 5000),\n",
    "    (4, 'book2', 3000),\n",
    "    (3, 'book3', 1000)\"\"\")\n",
    "\n",
    "# form=\"insert into bookdetail(rating,book,price)values(%s,%s,%s)\"\n",
    "# data=[(4,\"Book1\",99), (4, 'book2', 3000),]\n",
    "\n",
    "for i in dbcursor:\n",
    "    print(i)\n",
    "\n",
    "db.commit()"
   ]
  },
  {
   "cell_type": "markdown",
   "id": "9cdc966f-dd89-456e-8514-c5860bd31919",
   "metadata": {},
   "source": [
    "# View all data from table"
   ]
  },
  {
   "cell_type": "code",
   "execution_count": 25,
   "id": "00ed7094-e6f7-4bbd-a357-4d34ff7bc7b6",
   "metadata": {},
   "outputs": [
    {
     "name": "stdout",
     "output_type": "stream",
     "text": [
      "(5, 'book1', Decimal('5000.00'))\n",
      "(4, 'book2', Decimal('3000.00'))\n",
      "(3, 'book3', Decimal('1000.00'))\n",
      "('book1',)\n",
      "('book2',)\n",
      "('book3',)\n"
     ]
    }
   ],
   "source": [
    "#View all columns \n",
    "dbcursor.execute(\"\"\"select * from bookdetail\"\"\")\n",
    "result=dbcursor.fetchall()\n",
    "for i in result:\n",
    "    print(i)\n",
    "\n",
    "#View selected columns \n",
    "dbcursor.execute(\"\"\"select book from bookdetail\"\"\")\n",
    "result1=dbcursor.fetchall()\n",
    "for i in result1:\n",
    "    print(i)\n",
    "db.commit()"
   ]
  },
  {
   "cell_type": "code",
   "execution_count": null,
   "id": "f82ab453-32e9-4c4f-8150-f0e184c20e36",
   "metadata": {},
   "outputs": [],
   "source": []
  }
 ],
 "metadata": {
  "kernelspec": {
   "display_name": "Python 3 (ipykernel)",
   "language": "python",
   "name": "python3"
  },
  "language_info": {
   "codemirror_mode": {
    "name": "ipython",
    "version": 3
   },
   "file_extension": ".py",
   "mimetype": "text/x-python",
   "name": "python",
   "nbconvert_exporter": "python",
   "pygments_lexer": "ipython3",
   "version": "3.12.7"
  }
 },
 "nbformat": 4,
 "nbformat_minor": 5
}
