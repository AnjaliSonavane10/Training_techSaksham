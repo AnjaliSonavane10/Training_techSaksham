{
 "cells": [
  {
   "cell_type": "markdown",
   "id": "ccbc2d0b-f419-4dd7-8f8f-fe8cad5ae66b",
   "metadata": {},
   "source": [
    "# Single dimensional"
   ]
  },
  {
   "cell_type": "code",
   "execution_count": 3,
   "id": "88ed3082-03f0-4f25-856f-310ef5de52a7",
   "metadata": {},
   "outputs": [
    {
     "name": "stdout",
     "output_type": "stream",
     "text": [
      "[1 5 6 7]\n"
     ]
    }
   ],
   "source": [
    "import numpy as np\n",
    "b=np.array((1,5,6,7))\n",
    "print(b)"
   ]
  },
  {
   "cell_type": "markdown",
   "id": "4a5900be-c6fd-4f66-be11-9c059558877d",
   "metadata": {},
   "source": [
    "# Multi dimentional"
   ]
  },
  {
   "cell_type": "code",
   "execution_count": 4,
   "id": "3d7ca674-a8ab-418a-b0bc-1bb52b0f7913",
   "metadata": {},
   "outputs": [
    {
     "name": "stdout",
     "output_type": "stream",
     "text": [
      "[[1 5 6 7]\n",
      " [2 4 5 9]]\n"
     ]
    }
   ],
   "source": [
    "import numpy as np\n",
    "b=np.array([(1,5,6,7),(2,4,5,9)])\n",
    "print(b)"
   ]
  },
  {
   "cell_type": "markdown",
   "id": "ac79ca4c-777d-4c80-a5aa-334ac6289a2f",
   "metadata": {},
   "source": [
    "# Range of values in array"
   ]
  },
  {
   "cell_type": "code",
   "execution_count": 7,
   "id": "c0f59af5-319c-4753-99e9-0d75a0091a71",
   "metadata": {},
   "outputs": [
    {
     "name": "stdout",
     "output_type": "stream",
     "text": [
      "[0 1 2 3 4 5 6 7 8 9]\n",
      "[1.  1.8 2.6 3.4 4.2 5. ]\n"
     ]
    }
   ],
   "source": [
    "c=np.arange(10)  #range of values in array\n",
    "d=np.linspace(1,5,6)  #set of values by interval\n",
    "print(c)\n",
    "print(d)"
   ]
  },
  {
   "cell_type": "markdown",
   "id": "a4e84a90-19f2-4304-ae64-66d7bd0005e0",
   "metadata": {},
   "source": [
    "# Properties of array"
   ]
  },
  {
   "cell_type": "code",
   "execution_count": 8,
   "id": "59a51814-909a-4477-9de7-eb3e7d8e71c6",
   "metadata": {},
   "outputs": [
    {
     "name": "stdout",
     "output_type": "stream",
     "text": [
      "1\n",
      "4\n",
      "int32\n",
      "16\n",
      "4\n",
      "(2, 4)\n"
     ]
    }
   ],
   "source": [
    "a=np.array((1,5,6,7))\n",
    "b=np.array([(1,5,6,7),(2,4,5,9)])\n",
    "print(a.ndim)  # Dimension of array\n",
    "print(a.itemsize)   #Byte sizee of each element\n",
    "print(a.dtype)   # Datatype of array\n",
    "print(a.size*a.itemsize)  #memory occupied - space occupied by 1\n",
    "print(a.size)  #number of elments in array\n",
    "print(b.shape)  # shape of array(rows and columns)"
   ]
  },
  {
   "cell_type": "markdown",
   "id": "cd1469d3-6afc-4e3c-97de-4f6352b3493e",
   "metadata": {},
   "source": [
    "# Reshape array"
   ]
  },
  {
   "cell_type": "code",
   "execution_count": 10,
   "id": "b0e39ffb-4554-4e9e-b617-b9776de4fb9a",
   "metadata": {},
   "outputs": [
    {
     "name": "stdout",
     "output_type": "stream",
     "text": [
      "before\n",
      "[[1 5 6 7]\n",
      " [2 4 5 9]]\n",
      "after\n",
      "[[1 5]\n",
      " [6 7]\n",
      " [2 4]\n",
      " [5 9]]\n"
     ]
    }
   ],
   "source": [
    "print(\"before\")\n",
    "b=np.array([(1,5,6,7),(2,4,5,9)])\n",
    "print(b)\n",
    "print(\"after\")\n",
    "b=b.reshape(4,2)\n",
    "print(b)"
   ]
  },
  {
   "cell_type": "markdown",
   "id": "52087258-7774-4e56-a75b-2a9e36f2ae61",
   "metadata": {},
   "source": [
    "# Array Slicing"
   ]
  },
  {
   "cell_type": "code",
   "execution_count": 11,
   "id": "d0a250bc-4bdb-4685-85e2-97f5e07337ff",
   "metadata": {},
   "outputs": [
    {
     "name": "stdout",
     "output_type": "stream",
     "text": [
      "6\n",
      "[6 5]\n"
     ]
    }
   ],
   "source": [
    "b=np.array([(1,5,6,7),(2,4,5,9)])\n",
    "print(b[0,2]) #slicing the element from certain row and column\n",
    "print(b[0:,2]) #slicing element from all rows and certain column"
   ]
  },
  {
   "cell_type": "markdown",
   "id": "9f696127-cc2b-462d-b443-9737373cc26c",
   "metadata": {},
   "source": [
    "# Array max ,min, sum finding"
   ]
  },
  {
   "cell_type": "code",
   "execution_count": 12,
   "id": "b694f422-33de-4878-96a4-923ab380d449",
   "metadata": {},
   "outputs": [
    {
     "name": "stdout",
     "output_type": "stream",
     "text": [
      "3\n",
      "45\n",
      "103\n"
     ]
    }
   ],
   "source": [
    "e=np.array([7,9,9,3,45,7,23])\n",
    "print(e.min())  # returns min value\n",
    "print(e.max())  # returns max value\n",
    "print(e.sum())  # returns sum value of numpy"
   ]
  },
  {
   "cell_type": "markdown",
   "id": "e377ec18-783d-47f9-9cf9-d3ea9ddacf0b",
   "metadata": {},
   "source": [
    "# Arithematic operation"
   ]
  },
  {
   "cell_type": "code",
   "execution_count": 15,
   "id": "04788117-b1b3-4cec-b793-9739938d6b34",
   "metadata": {},
   "outputs": [
    {
     "name": "stdout",
     "output_type": "stream",
     "text": [
      "[23 20 18  8]\n",
      "[27 42]\n",
      "[2.64575131 3.         3.         1.41421356]\n",
      "2.8613807855648994\n",
      "[1.09663316e+03 8.10308393e+03 8.10308393e+03 7.38905610e+00]\n",
      "[1.94591015 2.19722458 2.19722458 0.69314718]\n",
      "[0.84509804 0.95424251 0.95424251 0.30103   ]\n"
     ]
    }
   ],
   "source": [
    "a=np.array((7,9,9,2))\n",
    "b=np.array([(7,9,9,2),(16,11,9,6)])\n",
    "print(b.sum(axis=0)) #Each elemnet of 1st dim array with same index with another dim element\n",
    "print(b.sum(axis=1)) #sum of all element is 1st dim and sum of all elemnet is 2nd dim\n",
    "print(np.sqrt(a))  # squareroot\n",
    "print(np.std(a))   #standard deviation\n",
    "print(np.exp(a))   #Exponential of array\n",
    "print(np.log(a))   #Natural log-ln\n",
    "print(np.log10(a))  #log base 10"
   ]
  },
  {
   "cell_type": "code",
   "execution_count": 18,
   "id": "ad2b498e-9113-4322-9078-f8a3e722018c",
   "metadata": {},
   "outputs": [
    {
     "name": "stdout",
     "output_type": "stream",
     "text": [
      "[[ 7  9  9  2]\n",
      " [16 11  9  6]\n",
      " [ 1  2  3  4]\n",
      " [ 5  6  7  8]]\n",
      "---------\n",
      "[[ 7  9  9  2  1  2  3  4]\n",
      " [16 11  9  6  5  6  7  8]]\n",
      "---------\n",
      "[ 7  9  9  2 16 11  9  6]\n"
     ]
    }
   ],
   "source": [
    "b=np.array([(7,9,9,2),(16,11,9,6)])\n",
    "f=np.array([(1,2,3,4),(5,6,7,8)])\n",
    "print(np.vstack((b,f)))  #Vertical Stack\n",
    "print(\"---------\")\n",
    "print(np.hstack((b,f)))  #Horizonatl Stack\n",
    "print(\"---------\")\n",
    "print(b.ravel())         #Merging as a single"
   ]
  },
  {
   "cell_type": "markdown",
   "id": "216f6875-4ddc-49dc-b92c-25be6837d726",
   "metadata": {},
   "source": [
    "# Three Dimentional Array"
   ]
  },
  {
   "cell_type": "code",
   "execution_count": 20,
   "id": "715498f2-9b69-487e-9365-11bf016f9227",
   "metadata": {},
   "outputs": [
    {
     "name": "stdout",
     "output_type": "stream",
     "text": [
      "[[[ 1  2  3]\n",
      "  [ 4  5  6]]\n",
      "\n",
      " [[-1 -2 -3]\n",
      "  [-4 -5 -6]]]\n"
     ]
    }
   ],
   "source": [
    "threeDArray=np.array([\n",
    "    [[1,2,3],[4,5,6]],\n",
    "    [[-1,-2,-3],[-4,-5,-6]]\n",
    "])\n",
    "print(threeDArray)"
   ]
  },
  {
   "cell_type": "code",
   "execution_count": 27,
   "id": "2fd2fc8e-d899-4a1f-8496-5ef1f779779d",
   "metadata": {},
   "outputs": [
    {
     "name": "stdout",
     "output_type": "stream",
     "text": [
      "(2, 2, 3)\n",
      "12\n",
      "int32\n",
      "3\n",
      "4\n"
     ]
    }
   ],
   "source": [
    "print(threeDArray.shape)\n",
    "print(threeDArray.size)\n",
    "print(threeDArray.dtype)\n",
    "print(threeDArray.ndim)\n",
    "print(threeDArray.itemsize)"
   ]
  },
  {
   "cell_type": "code",
   "execution_count": 30,
   "id": "01063597-b4ab-4f54-9935-9dad4ca370a1",
   "metadata": {},
   "outputs": [
    {
     "name": "stdout",
     "output_type": "stream",
     "text": [
      "1\n",
      "2\n",
      "3\n",
      "4\n",
      "5\n",
      "6\n",
      "-1\n",
      "-2\n",
      "-3\n",
      "-4\n",
      "-5\n",
      "-6\n",
      "another Method\n",
      "[ 1  2  3  4  5  6 -1 -2 -3 -4 -5 -6]\n"
     ]
    }
   ],
   "source": [
    "for i in threeDArray.flatten():   #convert any dimention to single dimension use flatten\n",
    "    print(i)\n",
    "print(\"another Method\")\n",
    "print(threeDArray.ravel())"
   ]
  },
  {
   "cell_type": "markdown",
   "id": "363ee339-b405-45eb-b307-81865efad701",
   "metadata": {},
   "source": [
    "# Filling array with specific values"
   ]
  },
  {
   "cell_type": "code",
   "execution_count": 31,
   "id": "c7b92e77-cd2b-4bb2-a33f-6ed5214f6ed6",
   "metadata": {},
   "outputs": [
    {
     "name": "stdout",
     "output_type": "stream",
     "text": [
      "[0. 0. 0. 0. 0.]\n"
     ]
    }
   ],
   "source": [
    "# zeros\n",
    "zeros=np.zeros(5)\n",
    "print(zeros)"
   ]
  },
  {
   "cell_type": "code",
   "execution_count": 32,
   "id": "2577a89e-371a-4506-b02b-4ebb443a181e",
   "metadata": {},
   "outputs": [
    {
     "name": "stdout",
     "output_type": "stream",
     "text": [
      "[1. 1. 1. 1. 1.]\n"
     ]
    }
   ],
   "source": [
    "#ones\n",
    "ones=np.ones(5)\n",
    "print(ones)        # this is in float"
   ]
  },
  {
   "cell_type": "code",
   "execution_count": 33,
   "id": "3c2a5b78-0767-4718-8b83-f140cb310af4",
   "metadata": {},
   "outputs": [
    {
     "name": "stdout",
     "output_type": "stream",
     "text": [
      "[1 1 1 1 1]\n"
     ]
    }
   ],
   "source": [
    "ones=ones.astype(int)\n",
    "print(ones)        # type cast and make it to int"
   ]
  },
  {
   "cell_type": "code",
   "execution_count": 35,
   "id": "3556a4fb-efc8-445a-a45d-9f11d27191a1",
   "metadata": {},
   "outputs": [
    {
     "name": "stdout",
     "output_type": "stream",
     "text": [
      "[5.6 6.6 7.6 8.6 9.6]\n"
     ]
    }
   ],
   "source": [
    "#arange\n",
    "ranges=np.arange(5.6,9.8)\n",
    "print(ranges)"
   ]
  },
  {
   "cell_type": "code",
   "execution_count": 37,
   "id": "0f758247-30df-4293-bb67-7e5019ac1605",
   "metadata": {},
   "outputs": [
    {
     "name": "stdout",
     "output_type": "stream",
     "text": [
      "[3.         3.33333333 3.66666667 4.         4.33333333 4.66666667\n",
      " 5.         5.33333333 5.66666667 6.        ]\n"
     ]
    }
   ],
   "source": [
    "#linespace\n",
    "linespace=np.linspace(3,6,10)\n",
    "print(linespace)"
   ]
  },
  {
   "cell_type": "markdown",
   "id": "33879849-97ef-4942-adb0-daff4dfbd3f5",
   "metadata": {},
   "source": [
    "# Scalar operations"
   ]
  },
  {
   "cell_type": "code",
   "execution_count": 40,
   "id": "f433242e-918e-427a-b3b9-957f3b153675",
   "metadata": {},
   "outputs": [
    {
     "name": "stdout",
     "output_type": "stream",
     "text": [
      "[[ 6 34 89]\n",
      " [23 34 45]]\n"
     ]
    }
   ],
   "source": [
    "matrix=np.array([[6,34,89],[23,34,45]])\n",
    "print(matrix)"
   ]
  },
  {
   "cell_type": "code",
   "execution_count": 41,
   "id": "7e0953b7-eb45-461f-9c68-690bb3948b09",
   "metadata": {},
   "outputs": [
    {
     "name": "stdout",
     "output_type": "stream",
     "text": [
      "[[ 8 36 91]\n",
      " [25 36 47]]\n"
     ]
    }
   ],
   "source": [
    "print(matrix+2)"
   ]
  },
  {
   "cell_type": "code",
   "execution_count": 42,
   "id": "85c66aaf-9ed8-49a0-a418-043e20c64daa",
   "metadata": {},
   "outputs": [
    {
     "name": "stdout",
     "output_type": "stream",
     "text": [
      "[[6, 34, 89], [23, 34, 45], [6, 34, 89], [23, 34, 45]]\n"
     ]
    }
   ],
   "source": [
    "# it does not work on list\n",
    "pythonlist=[[6,34,89],[23,34,45]]\n",
    "print(pythonlist * 2)   "
   ]
  },
  {
   "cell_type": "code",
   "execution_count": 43,
   "id": "0a2472a5-7184-4900-9dbc-37995b48eca8",
   "metadata": {},
   "outputs": [
    {
     "name": "stdout",
     "output_type": "stream",
     "text": [
      "[[ 6 23]\n",
      " [34 34]\n",
      " [89 45]]\n"
     ]
    }
   ],
   "source": [
    "#Transpose\n",
    "print(matrix.T)"
   ]
  },
  {
   "cell_type": "code",
   "execution_count": 44,
   "id": "726dc163-7a74-4807-a3c2-bd217fae40c8",
   "metadata": {},
   "outputs": [
    {
     "name": "stdout",
     "output_type": "stream",
     "text": [
      "[23 34 45]\n"
     ]
    }
   ],
   "source": [
    "print(matrix[1,]) "
   ]
  },
  {
   "cell_type": "code",
   "execution_count": 45,
   "id": "cac5d2cd-c8c7-466a-ac8d-c39c8ba2eebd",
   "metadata": {},
   "outputs": [
    {
     "name": "stdout",
     "output_type": "stream",
     "text": [
      "1 dimesion\n",
      "[5 5 5 5 5 5 5 5 5 5]\n",
      "2 dimesion\n",
      "[[10 10]\n",
      " [10 10]]\n",
      "3 dimesion\n",
      "[[[5 5 5 5]\n",
      "  [5 5 5 5]\n",
      "  [5 5 5 5]\n",
      "  [5 5 5 5]\n",
      "  [5 5 5 5]]\n",
      "\n",
      " [[5 5 5 5]\n",
      "  [5 5 5 5]\n",
      "  [5 5 5 5]\n",
      "  [5 5 5 5]\n",
      "  [5 5 5 5]]]\n"
     ]
    }
   ],
   "source": [
    "print(\"1 dimesion\")\n",
    "full=np.full(10,5)\n",
    "print(full)\n",
    "print(\"2 dimesion\")\n",
    "full=np.full((2,2),10)\n",
    "print(full)\n",
    "print(\"3 dimesion\")\n",
    "full=np.full((2,5,4),5)\n",
    "print(full)\n"
   ]
  },
  {
   "cell_type": "markdown",
   "id": "30b2b26d-f069-48ec-958d-e6fbfc28f2ce",
   "metadata": {},
   "source": [
    "# Element wise operations"
   ]
  },
  {
   "cell_type": "code",
   "execution_count": 62,
   "id": "567d7e10-90bf-4a0b-9f5f-7cd41b902f76",
   "metadata": {},
   "outputs": [],
   "source": [
    "pythonlist1=[[76,34,89],[23,34,45]]\n",
    "pythonlist2=[[76,34,89],[23,34,45]]"
   ]
  },
  {
   "cell_type": "code",
   "execution_count": 48,
   "id": "e481cf0e-a46d-46d0-bd58-e5cd5493cbfb",
   "metadata": {},
   "outputs": [
    {
     "data": {
      "text/plain": [
       "[[76, 34, 89], [23, 34, 45], [76, 34, 89], [23, 34, 45]]"
      ]
     },
     "execution_count": 48,
     "metadata": {},
     "output_type": "execute_result"
    }
   ],
   "source": [
    "pythonlist1+pythonlist2"
   ]
  },
  {
   "cell_type": "code",
   "execution_count": 63,
   "id": "f375773e-2897-4e7e-9931-6b0611255bf7",
   "metadata": {},
   "outputs": [],
   "source": [
    "matrix1=np.array([[1,2,3],[4,5,6],[7,8,9]])\n",
    "matrix2=np.array([[7,8,9],[10,11,12],[7,8,9]])"
   ]
  },
  {
   "cell_type": "code",
   "execution_count": 53,
   "id": "9236f470-cc9b-40a0-8aa7-e4f09c29f077",
   "metadata": {},
   "outputs": [
    {
     "name": "stdout",
     "output_type": "stream",
     "text": [
      "[[ 8 10 12]\n",
      " [14 16 18]]\n",
      "\n",
      "[[-6 -6 -6]\n",
      " [-6 -6 -6]]\n",
      "\n",
      "[[ 7 16 27]\n",
      " [40 55 72]]\n"
     ]
    }
   ],
   "source": [
    "print(matrix1+matrix2)\n",
    "print()\n",
    "print(matrix1-matrix2)\n",
    "print()\n",
    "print(matrix1*matrix2)"
   ]
  },
  {
   "cell_type": "code",
   "execution_count": 64,
   "id": "dc01e85c-0785-445d-8048-bbabbe3f2044",
   "metadata": {},
   "outputs": [
    {
     "name": "stdout",
     "output_type": "stream",
     "text": [
      "[[ 48  54  60]\n",
      " [120 135 150]\n",
      " [192 216 240]]\n"
     ]
    }
   ],
   "source": [
    "print(np.matmul(matrix1, matrix2))"
   ]
  },
  {
   "cell_type": "markdown",
   "id": "3fe97c6c-f66d-487c-9778-3c49a765a90b",
   "metadata": {},
   "source": [
    "# Stastical function in Numpy"
   ]
  },
  {
   "cell_type": "code",
   "execution_count": 65,
   "id": "9ac58beb-d4d9-4d38-a3cb-91bb98e64f84",
   "metadata": {},
   "outputs": [],
   "source": [
    "marks=np.array([\n",
    "    [76,34,89],[23,34,45],\n",
    "    [76,34,89],[23,34,45]\n",
    "])"
   ]
  },
  {
   "cell_type": "code",
   "execution_count": 67,
   "id": "ada2c0a0-c856-457c-8ce5-c65e1d593383",
   "metadata": {},
   "outputs": [
    {
     "name": "stdout",
     "output_type": "stream",
     "text": [
      "23\n",
      "89\n",
      "602\n",
      "50.166666666666664\n",
      "24.02371513502624\n"
     ]
    }
   ],
   "source": [
    "print(marks.min())\n",
    "print(marks.max())\n",
    "print(marks.sum())\n",
    "print(marks.mean())\n",
    "print(marks.std())"
   ]
  },
  {
   "cell_type": "code",
   "execution_count": 68,
   "id": "cc3da2c1-5dc6-4474-b2d0-29f0866efdbe",
   "metadata": {},
   "outputs": [
    {
     "name": "stdout",
     "output_type": "stream",
     "text": [
      "[34 23 34 23]\n",
      "[89 45 89 45]\n",
      "[199 102 199 102]\n",
      "[66.33333333 34.         66.33333333 34.        ]\n",
      "[23.47102232  8.98146239 23.47102232  8.98146239]\n"
     ]
    }
   ],
   "source": [
    "print(marks.min(axis=1))  # axis 1 means rowwise\n",
    "print(marks.max(axis=1))   # axis 2 means column wise\n",
    "print(marks.sum(axis=1))\n",
    "print(marks.mean(axis=1))\n",
    "print(marks.std(axis=1))\n"
   ]
  },
  {
   "cell_type": "code",
   "execution_count": 69,
   "id": "88e4cfa9-cf9b-49db-b516-bfb9c6131e4f",
   "metadata": {},
   "outputs": [],
   "source": [
    "# append\n",
    "x=np.array([0,1,2,3,4])\n",
    "y=np.array([5,6,7,8,9])\n",
    "z=np.array([10,11,12,13,14])\n"
   ]
  },
  {
   "cell_type": "code",
   "execution_count": 70,
   "id": "19c26707-9e61-4a4c-a4c5-d48ace6872a0",
   "metadata": {},
   "outputs": [
    {
     "data": {
      "text/plain": [
       "array([ 0,  1,  2,  3,  4,  5,  6,  7,  8,  9, 10, 11, 12, 13, 14])"
      ]
     },
     "execution_count": 70,
     "metadata": {},
     "output_type": "execute_result"
    }
   ],
   "source": [
    "np.hstack([x,y,z])\n"
   ]
  },
  {
   "cell_type": "code",
   "execution_count": 72,
   "id": "028abb14-812a-4e8c-a77f-804821e931d6",
   "metadata": {},
   "outputs": [
    {
     "data": {
      "text/plain": [
       "array([[ 0,  1,  2,  3,  4],\n",
       "       [ 5,  6,  7,  8,  9],\n",
       "       [10, 11, 12, 13, 14]])"
      ]
     },
     "execution_count": 72,
     "metadata": {},
     "output_type": "execute_result"
    }
   ],
   "source": [
    "np.vstack([x,y,z])"
   ]
  },
  {
   "cell_type": "code",
   "execution_count": 73,
   "id": "83c74dcc-dbcb-4c63-8454-0c820463ddfa",
   "metadata": {},
   "outputs": [
    {
     "data": {
      "text/plain": [
       "array([0, 1, 2, 3, 4, 2, 3])"
      ]
     },
     "execution_count": 73,
     "metadata": {},
     "output_type": "execute_result"
    }
   ],
   "source": [
    "np.append(x,(2,3))   # returns new array it does not append"
   ]
  },
  {
   "cell_type": "code",
   "execution_count": 74,
   "id": "75fb8436-c1f0-455e-9873-ff758228090a",
   "metadata": {},
   "outputs": [],
   "source": [
    "new_array=np.array([1,2,3])"
   ]
  },
  {
   "cell_type": "code",
   "execution_count": 75,
   "id": "89c866d3-4677-4700-9a8d-24a7f507a5af",
   "metadata": {},
   "outputs": [
    {
     "data": {
      "text/plain": [
       "array([[1, 2, 3],\n",
       "       [4, 5, 6],\n",
       "       [1, 2, 3],\n",
       "       [1, 2, 3]])"
      ]
     },
     "execution_count": 75,
     "metadata": {},
     "output_type": "execute_result"
    }
   ],
   "source": [
    "x=np.append([[1,2,3],[4,5,6]],[[1,2,3],new_array],axis=0)\n",
    "x"
   ]
  },
  {
   "cell_type": "code",
   "execution_count": 76,
   "id": "a7d70255-d52c-4340-b09b-3c9bdcdb38a5",
   "metadata": {},
   "outputs": [
    {
     "data": {
      "text/plain": [
       "array([[1, 4, 1, 1],\n",
       "       [2, 5, 2, 2],\n",
       "       [3, 6, 3, 3]])"
      ]
     },
     "execution_count": 76,
     "metadata": {},
     "output_type": "execute_result"
    }
   ],
   "source": [
    "np.transpose(x)    # fun of np"
   ]
  },
  {
   "cell_type": "code",
   "execution_count": 77,
   "id": "01975602-e636-4412-a576-481cf67216c4",
   "metadata": {},
   "outputs": [
    {
     "data": {
      "text/plain": [
       "array([[1, 4, 1, 1],\n",
       "       [2, 5, 2, 2],\n",
       "       [3, 6, 3, 3]])"
      ]
     },
     "execution_count": 77,
     "metadata": {},
     "output_type": "execute_result"
    }
   ],
   "source": [
    "x.T      # using obj for x"
   ]
  },
  {
   "cell_type": "markdown",
   "id": "7eb0d790-b5b8-4ab7-b56b-e1598b3d70e8",
   "metadata": {},
   "source": [
    "# Boolean Indexing"
   ]
  },
  {
   "cell_type": "code",
   "execution_count": 78,
   "id": "86dcc175-73d5-467c-994b-d8e7064217ab",
   "metadata": {},
   "outputs": [
    {
     "name": "stdout",
     "output_type": "stream",
     "text": [
      "[0 1 2 3 4 5 6]\n"
     ]
    }
   ],
   "source": [
    "arr=np.arange(7)\n",
    "print(arr)"
   ]
  },
  {
   "cell_type": "code",
   "execution_count": 79,
   "id": "4171b580-ed31-433e-b84d-05b22cacdb66",
   "metadata": {},
   "outputs": [
    {
     "data": {
      "text/plain": [
       "array([False, False, False, False, False,  True,  True])"
      ]
     },
     "execution_count": 79,
     "metadata": {},
     "output_type": "execute_result"
    }
   ],
   "source": [
    "arr > 4"
   ]
  },
  {
   "cell_type": "code",
   "execution_count": 80,
   "id": "fbddb34d-872a-4192-8298-72f4c318796a",
   "metadata": {},
   "outputs": [
    {
     "data": {
      "text/plain": [
       "array([5, 6])"
      ]
     },
     "execution_count": 80,
     "metadata": {},
     "output_type": "execute_result"
    }
   ],
   "source": [
    "arr[arr > 4]"
   ]
  },
  {
   "cell_type": "code",
   "execution_count": 83,
   "id": "e06a9734-4196-4159-beb2-8b921f75c6f6",
   "metadata": {},
   "outputs": [],
   "source": [
    "array=np.arange(12)"
   ]
  },
  {
   "cell_type": "code",
   "execution_count": 85,
   "id": "683c6ff4-e515-4bab-8cdb-a9857425a8b7",
   "metadata": {},
   "outputs": [],
   "source": [
    "array.shape =(3,4)"
   ]
  },
  {
   "cell_type": "code",
   "execution_count": 84,
   "id": "4cab69ea-448d-4c22-bbcb-7d69550885d0",
   "metadata": {},
   "outputs": [
    {
     "data": {
      "text/plain": [
       "array([[[ 0,  1],\n",
       "        [ 2,  3],\n",
       "        [ 4,  5]],\n",
       "\n",
       "       [[ 6,  7],\n",
       "        [ 8,  9],\n",
       "        [10, 11]]])"
      ]
     },
     "execution_count": 84,
     "metadata": {},
     "output_type": "execute_result"
    }
   ],
   "source": [
    "np.arange(12).reshape((2,3,2))"
   ]
  },
  {
   "cell_type": "markdown",
   "id": "66b701d0-f16d-430a-b0cf-c4831f01e659",
   "metadata": {},
   "source": [
    "# Generating random values"
   ]
  },
  {
   "cell_type": "code",
   "execution_count": 86,
   "id": "3cec7209-84f0-46b0-ade8-173a2fbf8a08",
   "metadata": {},
   "outputs": [
    {
     "data": {
      "text/plain": [
       "array([0.03752308, 0.68215547, 0.20342572, 0.14239512, 0.99477204])"
      ]
     },
     "execution_count": 86,
     "metadata": {},
     "output_type": "execute_result"
    }
   ],
   "source": [
    "np.random.rand(5)"
   ]
  },
  {
   "cell_type": "code",
   "execution_count": 87,
   "id": "2645ba24-7a4a-4a63-b845-2b14016fcd20",
   "metadata": {},
   "outputs": [
    {
     "data": {
      "text/plain": [
       "array([[13, 15, 14, 13, 10],\n",
       "       [13, 11, 10, 16, 19],\n",
       "       [13, 19, 15, 10, 16],\n",
       "       [14, 19, 11, 17, 19],\n",
       "       [17, 11, 15, 13, 17]])"
      ]
     },
     "execution_count": 87,
     "metadata": {},
     "output_type": "execute_result"
    }
   ],
   "source": [
    "#generating random matrix\n",
    "np.random.randint(10,20,(5,5))  # start value,stop value,shape"
   ]
  },
  {
   "cell_type": "code",
   "execution_count": 89,
   "id": "4ebbc8ab-68c6-4fc0-b2f4-eefdcca0742c",
   "metadata": {},
   "outputs": [
    {
     "data": {
      "text/plain": [
       "array(['a', 'a', 'e', 'i', 'i', 'i', 'i', 'a', 'e', 'e', 'e', 'u', 'u'],\n",
       "      dtype='<U1')"
      ]
     },
     "execution_count": 89,
     "metadata": {},
     "output_type": "execute_result"
    }
   ],
   "source": [
    "letters=list('aeiou')\n",
    "np.random.choice(letters,13)"
   ]
  },
  {
   "cell_type": "code",
   "execution_count": 90,
   "id": "de0c4789-2a6d-4819-9e36-72d42ed99fad",
   "metadata": {},
   "outputs": [
    {
     "data": {
      "text/plain": [
       "array(['u', 'i', 'e', 'a', 'o'], dtype='<U1')"
      ]
     },
     "execution_count": 90,
     "metadata": {},
     "output_type": "execute_result"
    }
   ],
   "source": [
    "np.random.choice(letters,5,replace=False)   # same letters wont repeat"
   ]
  },
  {
   "cell_type": "code",
   "execution_count": 92,
   "id": "92b84d12-dea8-4038-b80d-bf6252e9d500",
   "metadata": {},
   "outputs": [
    {
     "data": {
      "text/plain": [
       "array(['u', 'e', 'a', 'u', 'e', 'a', 'e', 'e', 'e', 'a', 'e', 'e', 'a',\n",
       "       'a', 'e'], dtype='<U1')"
      ]
     },
     "execution_count": 92,
     "metadata": {},
     "output_type": "execute_result"
    }
   ],
   "source": [
    "np.random.choice(letters,15,p=[0.4,0.3,0.1,0.1,0.1])"
   ]
  },
  {
   "cell_type": "markdown",
   "id": "b5307fa4-1c5f-4ae6-88b9-9d9940a8c704",
   "metadata": {},
   "source": [
    "# Save and Load array"
   ]
  },
  {
   "cell_type": "code",
   "execution_count": 93,
   "id": "1fa2e3ee-2f4b-47c0-988a-3bc23e022334",
   "metadata": {},
   "outputs": [],
   "source": [
    "array=np.random.randint(10,20,(5,5))\n",
    "np.save('array_file',array)"
   ]
  },
  {
   "cell_type": "code",
   "execution_count": 94,
   "id": "db124ac4-3192-4861-bde9-5e9774bb5380",
   "metadata": {},
   "outputs": [
    {
     "name": "stdout",
     "output_type": "stream",
     "text": [
      "[[13 17 13 13 18]\n",
      " [12 11 15 19 11]\n",
      " [17 12 19 16 10]\n",
      " [13 10 16 13 14]\n",
      " [17 16 17 13 17]]\n"
     ]
    }
   ],
   "source": [
    "array2=np.load('array_file.npy')\n",
    "print(array2)"
   ]
  },
  {
   "cell_type": "code",
   "execution_count": null,
   "id": "1756bae4-46fe-4e3b-9ef8-b1e371a90805",
   "metadata": {},
   "outputs": [],
   "source": []
  }
 ],
 "metadata": {
  "kernelspec": {
   "display_name": "Python 3 (ipykernel)",
   "language": "python",
   "name": "python3"
  },
  "language_info": {
   "codemirror_mode": {
    "name": "ipython",
    "version": 3
   },
   "file_extension": ".py",
   "mimetype": "text/x-python",
   "name": "python",
   "nbconvert_exporter": "python",
   "pygments_lexer": "ipython3",
   "version": "3.12.7"
  }
 },
 "nbformat": 4,
 "nbformat_minor": 5
}
