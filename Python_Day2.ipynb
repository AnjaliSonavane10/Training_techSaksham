{
 "cells": [
  {
   "cell_type": "code",
   "execution_count": null,
   "id": "05850cd4-ea79-4bc3-960d-c514954f4469",
   "metadata": {},
   "outputs": [],
   "source": [
    "#def__init__(self,gear,cc)\n",
    "# self=pointer\n",
    "#gear and cc are paarmetres like we can use self.gear"
   ]
  },
  {
   "cell_type": "code",
   "execution_count": 1,
   "id": "68a5fc90-fde5-4fe9-832d-73dc41fbefc4",
   "metadata": {},
   "outputs": [
    {
     "name": "stdout",
     "output_type": "stream",
     "text": [
      "Toyota 2001\n"
     ]
    }
   ],
   "source": [
    "class car:\n",
    "    def __init__ (self,model,year):\n",
    "        self.model=model\n",
    "        self.year=year\n",
    "\n",
    "    def display(self):\n",
    "        print(self.model,self.year)\n",
    "\n",
    "c1=car(\"Toyota\",2001)\n",
    "c1.display()"
   ]
  },
  {
   "cell_type": "code",
   "execution_count": 6,
   "id": "cb360bc1-c7ff-4914-ab6f-36baa308ee60",
   "metadata": {},
   "outputs": [
    {
     "name": "stdout",
     "output_type": "stream",
     "text": [
      "BMW Black 2004\n"
     ]
    }
   ],
   "source": [
    "class vehicle:\n",
    "    def __init__ (self,model,color,year):\n",
    "        self.model=model\n",
    "        self.color=color\n",
    "        self.year=year\n",
    "\n",
    "    def display(self):\n",
    "        print(self.model,self.color,self.year)\n",
    "\n",
    "o1=vehicle(\"BMW\",\"Black\",2004)\n",
    "o1.display()"
   ]
  },
  {
   "cell_type": "code",
   "execution_count": 15,
   "id": "63f9379d-d3ee-409a-a11b-accfbc3aa3d7",
   "metadata": {},
   "outputs": [
    {
     "name": "stdout",
     "output_type": "stream",
     "text": [
      "Book added: anjali\n",
      "Current Book List: ['anjali']\n",
      "Book added: Arushi\n",
      "Current Book List: ['anjali', 'Arushi']\n",
      "Book deleted: anjali\n",
      "Current Book List: ['Arushi']\n",
      "Book deleted: Arushi\n",
      "Current Book List: []\n"
     ]
    }
   ],
   "source": [
    "#Book management\n",
    "class Book:\n",
    "    book_list = []    #class variable\n",
    "\n",
    "    def __init__(self, name):\n",
    "        self.name = name\n",
    "\n",
    "    def add_book(self):    #class method\n",
    "        Book.book_list.append(self.name) \n",
    "        print(\"Book added:\", self.name)\n",
    "        print(\"Current Book List:\", Book.book_list)\n",
    "\n",
    "    def delete_book(self):\n",
    "        if self.name in Book.book_list:\n",
    "            Book.book_list.remove(self.name)\n",
    "            print(\"Book deleted:\", self.name)\n",
    "        else:\n",
    "            print(\"Book not found:\", self.name)\n",
    "        print(\"Current Book List:\", Book.book_list)\n",
    "\n",
    "\n",
    "s1 = Book(\"anjali\")\n",
    "s1.add_book()\n",
    "s2 = Book(\"Arushi\")\n",
    "s2.add_book()\n",
    "\n",
    "s1.delete_book()\n",
    "s2.delete_book()\n"
   ]
  },
  {
   "cell_type": "code",
   "execution_count": 16,
   "id": "f8e6fcc7-25e3-484d-8008-2aa2747c680f",
   "metadata": {},
   "outputs": [
    {
     "data": {
      "text/plain": [
       "[2, 4, 6]"
      ]
     },
     "execution_count": 16,
     "metadata": {},
     "output_type": "execute_result"
    }
   ],
   "source": [
    "#Return all even no from list\n",
    "def check_even_list(num_list):\n",
    "    even_numbers= []\n",
    "    \n",
    "    for number in num_list:\n",
    "        if number % 2==0:\n",
    "            even_numbers.append(number)\n",
    "        else:\n",
    "            pass\n",
    "\n",
    "    return even_numbers\n",
    "\n",
    "check_even_list([1,2,3,4,5,6])"
   ]
  },
  {
   "cell_type": "markdown",
   "id": "721c4106-439c-47a6-ac71-95a095f3fec6",
   "metadata": {},
   "source": [
    "# Inheritance"
   ]
  },
  {
   "cell_type": "code",
   "execution_count": 19,
   "id": "ebb9ecf1-0ea6-4513-8f5c-fba66aa159db",
   "metadata": {},
   "outputs": [
    {
     "name": "stdout",
     "output_type": "stream",
     "text": [
      "Rahul\n",
      "886012\n",
      "My name is Rahul\n",
      "IdNumber is 886012\n",
      "Post isIntern\n"
     ]
    }
   ],
   "source": [
    "#parent class\n",
    "class person(object):\n",
    "    def __init__(self,name,idnumber):\n",
    "        self.name=name\n",
    "        self.idnumber=idnumber\n",
    "\n",
    "    def display(self):\n",
    "        print(self.name)\n",
    "        print(self.idnumber)\n",
    "\n",
    "    def details(self):\n",
    "        print(\"My name is {}\" .format(self.name))\n",
    "        print(\"IdNumber: {}\" .format(self.idnumber))\n",
    "\n",
    "#child class\n",
    "class Employee(person):\n",
    "    def __init__(self,name,idnumber,salary,post):\n",
    "        self.salary=salary\n",
    "        self.post=post\n",
    "\n",
    "        person.__init__(self,name,idnumber)\n",
    "\n",
    "    def details(self):\n",
    "        print(\"My name is {}\".format(self.name))\n",
    "        print(\"IdNumber is {}\".format(self.idnumber))\n",
    "        print(\"Post is{}\".format(self.post))\n",
    "\n",
    "#object creation\n",
    "a=Employee('Rahul',886012,200000,\"Intern\")\n",
    "a.display()\n",
    "a.details()"
   ]
  },
  {
   "cell_type": "code",
   "execution_count": 32,
   "id": "3a234e1f-c438-4a9a-a116-01705887d875",
   "metadata": {},
   "outputs": [
    {
     "name": "stdout",
     "output_type": "stream",
     "text": [
      "Name of sports is Cricket\n",
      "Number of players are 11\n",
      "Total score is 150\n",
      "Ground type is Round\n",
      "Name of sports is Football\n",
      "Number of players are 10\n",
      "Total score is 5\n",
      "GRound type is Square\n"
     ]
    }
   ],
   "source": [
    "class play(object):\n",
    "    def __init__(self,name,players,score):\n",
    "        self.name=name\n",
    "        self.players=players\n",
    "        self.score=score\n",
    "\n",
    "    def display_name(self):\n",
    "        print(\"Name of sports is {}\".format(self.name))\n",
    "\n",
    "    def display_players(self):\n",
    "        print(\"Number of players are {}\".format(self.players))\n",
    "\n",
    "    def display_score(self):\n",
    "        print(\"Total score is {}\".format(self.score))\n",
    "\n",
    "class cricket(play):\n",
    "    def __init__(self,name,players,score):\n",
    "        play.__init__(self,name,players,score)\n",
    "\n",
    "    def ground_type(self):\n",
    "        print(\"Ground type is Round\")\n",
    "\n",
    "class football(play):\n",
    "    def __init__(self,name,players,score):\n",
    "        play.__init__(self,name,players,score)\n",
    "\n",
    "    def ground_type(self):\n",
    "        print(\"GRound type is Square\")\n",
    "\n",
    "c=cricket(\"Cricket\",11,150)\n",
    "c.display_name()\n",
    "c.display_players()\n",
    "c.display_score()\n",
    "c.ground_type()\n",
    "\n",
    "f=football(\"Football\",10,5)\n",
    "f.display_name()\n",
    "f.display_players()\n",
    "f.display_score()\n",
    "f.ground_type()\n",
    "        \n",
    "        "
   ]
  },
  {
   "cell_type": "code",
   "execution_count": 29,
   "id": "ab96b708-4bd1-4867-a77f-56bd9c79a4bf",
   "metadata": {},
   "outputs": [
    {
     "name": "stdout",
     "output_type": "stream",
     "text": [
      "My Name is Anjali\n",
      "My gender is Female\n",
      "My age is 21\n",
      "My height is 5.6\n",
      "This is my money\n",
      "This is my Watch\n"
     ]
    }
   ],
   "source": [
    "class Dad(object):\n",
    "    def __init__(self, age, height):\n",
    "        self.age = age\n",
    "        self.height = height\n",
    "\n",
    "    def display(self):\n",
    "        print(\"My age is {}\".format(self.age))\n",
    "        print(\"My height is {}\".format(self.height))\n",
    "\n",
    "    def money(self): \n",
    "        print(\"This is my money\")\n",
    "\n",
    "\n",
    "class Mom(object):\n",
    "    def __init__(self, name, gender):\n",
    "        self.name = name\n",
    "        self.gender = gender\n",
    "\n",
    "    def display(self):\n",
    "        print(\"My Name is {}\".format(self.name))\n",
    "        print(\"My gender is {}\".format(self.gender))\n",
    "\n",
    "    def watch(self): \n",
    "        print(\"This is my Watch\")\n",
    "\n",
    "\n",
    "class child(Dad, Mom):\n",
    "    def __init__(self, name, gender, age, height):\n",
    "        Mom.__init__(self, name, gender)\n",
    "        Dad.__init__(self, age, height)\n",
    "\n",
    "    def display(self):\n",
    "        print(\"My Name is {}\".format(self.name))\n",
    "        print(\"My gender is {}\".format(self.gender))\n",
    "        print(\"My age is {}\".format(self.age))\n",
    "        print(\"My height is {}\".format(self.height))\n",
    "\n",
    "    def house(self):  \n",
    "        print(\"I have a big house\")\n",
    "\n",
    "    def mobile(self):\n",
    "        print(\"I have a mobile\")\n",
    "\n",
    "\n",
    "class Grand_child(child):\n",
    "    def __init__(self, name, gender, age, height):\n",
    "        child.__init__(self, name, gender, age, height)\n",
    "\n",
    "    def display(self):\n",
    "        print(\"My Name is {}\".format(self.name))\n",
    "        print(\"My gender is {}\".format(self.gender))\n",
    "        print(\"My age is {}\".format(self.age))\n",
    "        print(\"My height is {}\".format(self.height))\n",
    "\n",
    "\n",
    "g = Grand_child(\"Anjali\", \"Female\", 21, 5.6)\n",
    "g.display()\n",
    "g.money()\n",
    "g.watch()\n"
   ]
  },
  {
   "cell_type": "code",
   "execution_count": 41,
   "id": "23f5643e-b467-4dfc-8444-909867e70993",
   "metadata": {},
   "outputs": [
    {
     "name": "stdout",
     "output_type": "stream",
     "text": [
      "121 is a palindrome\n",
      "7 is a prime number\n",
      "153 is an Armstrong number\n"
     ]
    }
   ],
   "source": [
    "class Number:\n",
    "    def __init__(self, number):\n",
    "        self.number = number\n",
    "\n",
    "    def palindrome(self):\n",
    "        num = str(self.number)\n",
    "        if num == num[::-1]:\n",
    "            print(\"{} is a palindrome\".format(self.number))\n",
    "        else:\n",
    "            print(\"{} is not a palindrome\".format(self.number))\n",
    "\n",
    "    def prime(self):\n",
    "        if self.number <= 1:\n",
    "            print(\"{} is not a prime number\".format(self.number))\n",
    "            return\n",
    "        for i in range(2, self.number):\n",
    "            if self.number % i == 0:\n",
    "                print(\"{} is not a prime number\".format(self.number))\n",
    "                return\n",
    "        print(\"{} is a prime number\".format(self.number))\n",
    "\n",
    "    def Armstrong(self):\n",
    "        original = self.number\n",
    "        count_digit = len(str(self.number))\n",
    "        sum_of_digit = 0\n",
    "        for digit_char in str(self.number):  \n",
    "            digit = int(digit_char)  \n",
    "            sum_of_digit += digit ** count_digit \n",
    "        \n",
    "        if sum_of_digit == original:\n",
    "            print(\"{} is an Armstrong number\".format(self.number))\n",
    "        else:\n",
    "            print(\"{} is not an Armstrong number\".format(self.number))\n",
    "\n",
    "class special_1(Number):\n",
    "    def __init__(self, number):\n",
    "        super().__init__(number)\n",
    "\n",
    "class special_2(Number):\n",
    "    def __init__(self, number):\n",
    "        super().__init__(number)\n",
    "\n",
    "class special_3(Number):\n",
    "    def __init__(self, number):\n",
    "        super().__init__(number)\n",
    "\n",
    "s1 = special_1(121)\n",
    "s1.palindrome()\n",
    "\n",
    "s2 = special_2(7)\n",
    "s2.prime()\n",
    "\n",
    "s3 = special_3(153)\n",
    "s3.Armstrong()\n"
   ]
  },
  {
   "cell_type": "code",
   "execution_count": null,
   "id": "be49d8b0-2e14-4bcb-b032-d90a30e0fd0b",
   "metadata": {},
   "outputs": [],
   "source": [
    "class List:\n",
    "    def __init__(self, number):\n",
    "        self.number = number\n",
    "\n",
    "#reverse   ascending     Descending"
   ]
  },
  {
   "cell_type": "code",
   "execution_count": 6,
   "id": "457933a6-8602-4d3f-b2b9-7bcd059df7b6",
   "metadata": {},
   "outputs": [
    {
     "name": "stdout",
     "output_type": "stream",
     "text": [
      "5 3 8 6 2 \n",
      "Ascending order: [2, 3, 5, 6, 8]\n",
      "Descending order: [8, 6, 5, 3, 2]\n",
      "I am a Child class\n"
     ]
    }
   ],
   "source": [
    "class List:\n",
    "    \n",
    "    def reverse(self, List1):\n",
    "        for i in range(len(List1)-1, -1, -1):\n",
    "            print(List1[i], end=' ')\n",
    "        print()\n",
    "    \n",
    "    def ascending(self, List1):\n",
    "        for i in range(len(List1)):\n",
    "            min_index = i\n",
    "            for j in range(i+1, len(List1)):\n",
    "                if List1[j] < List1[min_index]:\n",
    "                    min_index = j\n",
    "            List1[i], List1[min_index] = List1[min_index], List1[i]\n",
    "        print(\"Ascending order:\", List1)\n",
    "            \n",
    "    def descending(self, List1):\n",
    "        for i in range(len(List1)):\n",
    "            max_index = i\n",
    "            for j in range(i+1, len(List1)):\n",
    "                if List1[j] > List1[max_index]:\n",
    "                    max_index = j\n",
    "            List1[i], List1[max_index] = List1[max_index], List1[i]\n",
    "        print(\"Descending order:\", List1)\n",
    "\n",
    "class child(List):\n",
    "    def name(self):\n",
    "        print(\"I am a Child class\")\n",
    "\n",
    "c1 = child()\n",
    "List1 = [2, 6, 8, 3, 5]\n",
    "c1.reverse(List1)\n",
    "c1.ascending(List1)\n",
    "c1.descending(List1)\n",
    "c1.name()\n"
   ]
  },
  {
   "cell_type": "markdown",
   "id": "06654b3e-ae11-4d06-9d60-1cbd081bdd28",
   "metadata": {},
   "source": [
    "# Polymorphism"
   ]
  },
  {
   "cell_type": "code",
   "execution_count": 7,
   "id": "53caf8fe-fae1-42d6-b3f7-34fc34c42383",
   "metadata": {},
   "outputs": [
    {
     "name": "stdout",
     "output_type": "stream",
     "text": [
      "This is Facebook\n",
      "This is Instagram\n",
      "This is Whatsapp\n"
     ]
    }
   ],
   "source": [
    "class Facebook:\n",
    "    def Community(self):\n",
    "        print(\"This is Facebook\")\n",
    "\n",
    "class Instagram:\n",
    "    def Community(self):\n",
    "        print(\"This is Instagram\")\n",
    "\n",
    "class Whatsapp:\n",
    "    def Community(self):\n",
    "        print(\"This is Whatsapp\")\n",
    "\n",
    "x=Facebook()\n",
    "x.Community()\n",
    "\n",
    "y=Instagram()\n",
    "y.Community()\n",
    "\n",
    "z=Whatsapp()\n",
    "z.Community()"
   ]
  },
  {
   "cell_type": "code",
   "execution_count": null,
   "id": "0998178b-2ec6-4f48-ad5e-9ee6548106b3",
   "metadata": {},
   "outputs": [],
   "source": []
  }
 ],
 "metadata": {
  "kernelspec": {
   "display_name": "Python 3 (ipykernel)",
   "language": "python",
   "name": "python3"
  },
  "language_info": {
   "codemirror_mode": {
    "name": "ipython",
    "version": 3
   },
   "file_extension": ".py",
   "mimetype": "text/x-python",
   "name": "python",
   "nbconvert_exporter": "python",
   "pygments_lexer": "ipython3",
   "version": "3.12.7"
  }
 },
 "nbformat": 4,
 "nbformat_minor": 5
}
