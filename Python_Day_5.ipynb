{
 "cells": [
  {
   "cell_type": "code",
   "execution_count": 8,
   "id": "fba9e887-02a0-4b1d-9d07-4d2435bd41c7",
   "metadata": {},
   "outputs": [],
   "source": [
    "try:\n",
    "    file=open('example.txt','r')\n",
    "    content=file.read()\n",
    "    number=int(content)\n",
    "except(FileNotFoundError,ValueError) as  e:\n",
    "    print(e)"
   ]
  },
  {
   "cell_type": "code",
   "execution_count": null,
   "id": "baf54af2-5479-4372-b944-0eb370aa03da",
   "metadata": {},
   "outputs": [],
   "source": [
    "def divide_with_custom_exception(a,b):\n",
    "    try:\n",
    "        if a<0 or "
   ]
  },
  {
   "cell_type": "markdown",
   "id": "2914b1a4-a623-470f-936f-539f42c1d1eb",
   "metadata": {},
   "source": [
    "# Exception Handling while Reading File contents"
   ]
  },
  {
   "cell_type": "code",
   "execution_count": 13,
   "id": "e81ff4ce-b66e-49a4-9094-d17b1d471633",
   "metadata": {},
   "outputs": [
    {
     "name": "stdin",
     "output_type": "stream",
     "text": [
      "Enter the file path:  example.txt\n"
     ]
    },
    {
     "name": "stdout",
     "output_type": "stream",
     "text": [
      "Anjali Sonavane\n"
     ]
    }
   ],
   "source": [
    "def read_file_contents(file_path):\n",
    "    try:\n",
    "        with open(file_path, 'r') as file:\n",
    "            contents = file.read()\n",
    "            return contents\n",
    "    except FileNotFoundError:\n",
    "        return \"Error: The file was not found.\"\n",
    "    except PermissionError:\n",
    "        return \"Error: Permission denied. Cannot read the file.\"\n",
    "    except Exception as e:\n",
    "        return f\"Error: An unknown error occurred. Details: {str(e)}\"\n",
    "\n",
    "# Example usage:\n",
    "file_path = input(\"Enter the file path: \")\n",
    "print(read_file_contents(file_path))\n"
   ]
  },
  {
   "cell_type": "markdown",
   "id": "636fa6e0-e3d2-4f4e-8ad8-b09ccced3dfd",
   "metadata": {},
   "source": [
    "# wap to input a list and an element and remove all occurences of the given elements in the list"
   ]
  },
  {
   "cell_type": "code",
   "execution_count": 18,
   "id": "807a6993-8119-4e54-a1fd-72b6f721de73",
   "metadata": {},
   "outputs": [
    {
     "name": "stdin",
     "output_type": "stream",
     "text": [
      "Enter the list of elements seperately by space: 20 30 40 20 40\n",
      "Enter the element to remove 20\n"
     ]
    },
    {
     "name": "stdout",
     "output_type": "stream",
     "text": [
      "Updated list after removing all occurences of 20  : ['30', '40', '40']\n"
     ]
    }
   ],
   "source": [
    "def remove_occurences(list1,element):\n",
    "    while element in list1:\n",
    "           list1.remove(element)\n",
    "    return list1\n",
    "\n",
    "    \n",
    "input_list=input(\"Enter the list of elements seperately by space:\").split()\n",
    "element_to_remove=input(\"Enter the element to remove\")\n",
    "\n",
    "updated_list=remove_occurences(input_list,element_to_remove)\n",
    "\n",
    "print(\"Updated list after removing all occurences of\" ,element_to_remove,\" :\",updated_list)"
   ]
  },
  {
   "cell_type": "code",
   "execution_count": 19,
   "id": "1959d73d-f87e-4965-b6dd-27e9bf82c4c6",
   "metadata": {},
   "outputs": [
    {
     "name": "stdout",
     "output_type": "stream",
     "text": [
      "tuple[1, 2, 3]\n"
     ]
    }
   ],
   "source": [
    "print((tuple[1,2,3]))"
   ]
  },
  {
   "cell_type": "code",
   "execution_count": 20,
   "id": "3dd3e51a-7cfa-4713-8855-4b92ce3b7f73",
   "metadata": {},
   "outputs": [
    {
     "name": "stdout",
     "output_type": "stream",
     "text": [
      "True\n"
     ]
    }
   ],
   "source": [
    "print(2.0==2)\n"
   ]
  },
  {
   "cell_type": "code",
   "execution_count": 21,
   "id": "eb85455e-956a-40fa-b8bf-56cd581f82a3",
   "metadata": {},
   "outputs": [
    {
     "name": "stdout",
     "output_type": "stream",
     "text": [
      "[0, 2, 4]\n"
     ]
    }
   ],
   "source": [
    "print([i for i in range(5) if i % 2==0])"
   ]
  },
  {
   "cell_type": "code",
   "execution_count": 22,
   "id": "6d9a0466-a8be-4fa8-aa93-c77466445b94",
   "metadata": {},
   "outputs": [
    {
     "name": "stdout",
     "output_type": "stream",
     "text": [
      "16\n"
     ]
    }
   ],
   "source": [
    "print(2 ** 4)"
   ]
  },
  {
   "cell_type": "code",
   "execution_count": 23,
   "id": "f818fe99-b4ae-432c-bc45-a36576ceca6c",
   "metadata": {},
   "outputs": [
    {
     "name": "stdout",
     "output_type": "stream",
     "text": [
      "False\n"
     ]
    }
   ],
   "source": [
    "print(bool(0))"
   ]
  },
  {
   "cell_type": "code",
   "execution_count": 26,
   "id": "e576046a-d76b-4b2f-962d-4a2a241261f2",
   "metadata": {},
   "outputs": [
    {
     "name": "stdout",
     "output_type": "stream",
     "text": [
      "2\n"
     ]
    }
   ],
   "source": [
    "print(5//2)"
   ]
  },
  {
   "cell_type": "code",
   "execution_count": 27,
   "id": "cb109bcc-a732-4bc9-b6dd-d7e864b2678a",
   "metadata": {},
   "outputs": [
    {
     "name": "stdout",
     "output_type": "stream",
     "text": [
      "25\n"
     ]
    }
   ],
   "source": [
    "print((lambda x:x*x)(5))"
   ]
  },
  {
   "cell_type": "code",
   "execution_count": null,
   "id": "7e0e7b36-7071-4b1b-abb9-c209a515ddf4",
   "metadata": {},
   "outputs": [],
   "source": []
  }
 ],
 "metadata": {
  "kernelspec": {
   "display_name": "Python 3 (ipykernel)",
   "language": "python",
   "name": "python3"
  },
  "language_info": {
   "codemirror_mode": {
    "name": "ipython",
    "version": 3
   },
   "file_extension": ".py",
   "mimetype": "text/x-python",
   "name": "python",
   "nbconvert_exporter": "python",
   "pygments_lexer": "ipython3",
   "version": "3.12.7"
  }
 },
 "nbformat": 4,
 "nbformat_minor": 5
}
